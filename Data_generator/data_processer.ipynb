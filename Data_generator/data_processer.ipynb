{
 "cells": [
  {
   "cell_type": "code",
   "execution_count": 41,
   "metadata": {
    "collapsed": true,
    "ExecuteTime": {
     "start_time": "2023-06-28T19:52:16.565415Z",
     "end_time": "2023-06-28T19:52:16.587412Z"
    }
   },
   "outputs": [],
   "source": [
    "import pandas as pd\n",
    "import numpy as np\n",
    "import random"
   ]
  },
  {
   "cell_type": "code",
   "execution_count": 42,
   "outputs": [],
   "source": [
    "data = pd.read_csv('Data/data.csv')"
   ],
   "metadata": {
    "collapsed": false,
    "ExecuteTime": {
     "start_time": "2023-06-28T19:52:16.957887Z",
     "end_time": "2023-06-28T19:52:16.977883Z"
    }
   }
  },
  {
   "cell_type": "code",
   "execution_count": 43,
   "outputs": [],
   "source": [
    "data=data[:2800]"
   ],
   "metadata": {
    "collapsed": false,
    "ExecuteTime": {
     "start_time": "2023-06-28T19:52:17.365526Z",
     "end_time": "2023-06-28T19:52:17.375526Z"
    }
   }
  },
  {
   "cell_type": "code",
   "execution_count": 44,
   "outputs": [],
   "source": [
    "data=data.drop(data.columns[0],axis=1)"
   ],
   "metadata": {
    "collapsed": false,
    "ExecuteTime": {
     "start_time": "2023-06-28T19:52:17.655171Z",
     "end_time": "2023-06-28T19:52:17.670166Z"
    }
   }
  },
  {
   "cell_type": "code",
   "execution_count": 45,
   "outputs": [
    {
     "data": {
      "text/plain": "      pipe-dia  pipe-mat  pipe-bd  先前失效  pipe-pre  pipe-len  pipe-age  a7\n0     0.285714         2   0.6875     0  0.416667  0.028876  0.000000   0\n1     0.285714         2   0.6250     0  0.708333  0.014238  0.296296   0\n2     0.285714         2   0.0625     0  0.166667  0.061288  0.166667   0\n3     0.285714         2   0.5625     0  0.375000  0.054916  0.185185   0\n4     0.285714         2   0.3125     0  0.083333  0.070940  0.185185   0\n...        ...       ...      ...   ...       ...       ...       ...  ..\n2795  0.285714         1   0.3150     1  0.416667  0.389229  0.444444   1\n2796  0.285714         6   0.3175     0  0.375000  0.138432  0.537037   1\n2797  0.285714         6   0.1250     1  0.125000  1.000000  0.407407   1\n2798  0.285714         6   0.1250     0  0.583333  0.002582  0.574074   1\n2799  0.285714         6   0.5000     0  0.458333  0.030858  0.629630   1\n\n[2800 rows x 8 columns]",
      "text/html": "<div>\n<style scoped>\n    .dataframe tbody tr th:only-of-type {\n        vertical-align: middle;\n    }\n\n    .dataframe tbody tr th {\n        vertical-align: top;\n    }\n\n    .dataframe thead th {\n        text-align: right;\n    }\n</style>\n<table border=\"1\" class=\"dataframe\">\n  <thead>\n    <tr style=\"text-align: right;\">\n      <th></th>\n      <th>pipe-dia</th>\n      <th>pipe-mat</th>\n      <th>pipe-bd</th>\n      <th>先前失效</th>\n      <th>pipe-pre</th>\n      <th>pipe-len</th>\n      <th>pipe-age</th>\n      <th>a7</th>\n    </tr>\n  </thead>\n  <tbody>\n    <tr>\n      <th>0</th>\n      <td>0.285714</td>\n      <td>2</td>\n      <td>0.6875</td>\n      <td>0</td>\n      <td>0.416667</td>\n      <td>0.028876</td>\n      <td>0.000000</td>\n      <td>0</td>\n    </tr>\n    <tr>\n      <th>1</th>\n      <td>0.285714</td>\n      <td>2</td>\n      <td>0.6250</td>\n      <td>0</td>\n      <td>0.708333</td>\n      <td>0.014238</td>\n      <td>0.296296</td>\n      <td>0</td>\n    </tr>\n    <tr>\n      <th>2</th>\n      <td>0.285714</td>\n      <td>2</td>\n      <td>0.0625</td>\n      <td>0</td>\n      <td>0.166667</td>\n      <td>0.061288</td>\n      <td>0.166667</td>\n      <td>0</td>\n    </tr>\n    <tr>\n      <th>3</th>\n      <td>0.285714</td>\n      <td>2</td>\n      <td>0.5625</td>\n      <td>0</td>\n      <td>0.375000</td>\n      <td>0.054916</td>\n      <td>0.185185</td>\n      <td>0</td>\n    </tr>\n    <tr>\n      <th>4</th>\n      <td>0.285714</td>\n      <td>2</td>\n      <td>0.3125</td>\n      <td>0</td>\n      <td>0.083333</td>\n      <td>0.070940</td>\n      <td>0.185185</td>\n      <td>0</td>\n    </tr>\n    <tr>\n      <th>...</th>\n      <td>...</td>\n      <td>...</td>\n      <td>...</td>\n      <td>...</td>\n      <td>...</td>\n      <td>...</td>\n      <td>...</td>\n      <td>...</td>\n    </tr>\n    <tr>\n      <th>2795</th>\n      <td>0.285714</td>\n      <td>1</td>\n      <td>0.3150</td>\n      <td>1</td>\n      <td>0.416667</td>\n      <td>0.389229</td>\n      <td>0.444444</td>\n      <td>1</td>\n    </tr>\n    <tr>\n      <th>2796</th>\n      <td>0.285714</td>\n      <td>6</td>\n      <td>0.3175</td>\n      <td>0</td>\n      <td>0.375000</td>\n      <td>0.138432</td>\n      <td>0.537037</td>\n      <td>1</td>\n    </tr>\n    <tr>\n      <th>2797</th>\n      <td>0.285714</td>\n      <td>6</td>\n      <td>0.1250</td>\n      <td>1</td>\n      <td>0.125000</td>\n      <td>1.000000</td>\n      <td>0.407407</td>\n      <td>1</td>\n    </tr>\n    <tr>\n      <th>2798</th>\n      <td>0.285714</td>\n      <td>6</td>\n      <td>0.1250</td>\n      <td>0</td>\n      <td>0.583333</td>\n      <td>0.002582</td>\n      <td>0.574074</td>\n      <td>1</td>\n    </tr>\n    <tr>\n      <th>2799</th>\n      <td>0.285714</td>\n      <td>6</td>\n      <td>0.5000</td>\n      <td>0</td>\n      <td>0.458333</td>\n      <td>0.030858</td>\n      <td>0.629630</td>\n      <td>1</td>\n    </tr>\n  </tbody>\n</table>\n<p>2800 rows × 8 columns</p>\n</div>"
     },
     "execution_count": 45,
     "metadata": {},
     "output_type": "execute_result"
    }
   ],
   "source": [
    "data"
   ],
   "metadata": {
    "collapsed": false,
    "ExecuteTime": {
     "start_time": "2023-06-28T19:52:17.924142Z",
     "end_time": "2023-06-28T19:52:17.943140Z"
    }
   }
  },
  {
   "cell_type": "code",
   "execution_count": 46,
   "outputs": [],
   "source": [
    "from sklearn.preprocessing import OneHotEncoder"
   ],
   "metadata": {
    "collapsed": false,
    "ExecuteTime": {
     "start_time": "2023-06-28T19:52:18.159141Z",
     "end_time": "2023-06-28T19:52:18.181140Z"
    }
   }
  },
  {
   "cell_type": "code",
   "execution_count": 47,
   "outputs": [
    {
     "data": {
      "text/plain": "['pipe-mat', '先前失效']"
     },
     "execution_count": 47,
     "metadata": {},
     "output_type": "execute_result"
    }
   ],
   "source": [
    "columns_to_encoder=['pipe-mat','先前失效']\n",
    "columns_to_encoder"
   ],
   "metadata": {
    "collapsed": false,
    "ExecuteTime": {
     "start_time": "2023-06-28T19:52:18.366143Z",
     "end_time": "2023-06-28T19:52:18.379145Z"
    }
   }
  },
  {
   "cell_type": "code",
   "execution_count": 48,
   "outputs": [],
   "source": [
    "encoder=OneHotEncoder(sparse=False)"
   ],
   "metadata": {
    "collapsed": false,
    "ExecuteTime": {
     "start_time": "2023-06-28T19:52:18.587140Z",
     "end_time": "2023-06-28T19:52:18.602141Z"
    }
   }
  },
  {
   "cell_type": "code",
   "execution_count": 49,
   "outputs": [
    {
     "name": "stderr",
     "output_type": "stream",
     "text": [
      "C:\\Users\\康云凯\\AppData\\Roaming\\Python\\Python310\\site-packages\\sklearn\\preprocessing\\_encoders.py:868: FutureWarning: `sparse` was renamed to `sparse_output` in version 1.2 and will be removed in 1.4. `sparse_output` is ignored unless you leave `sparse` to its default value.\n",
      "  warnings.warn(\n"
     ]
    }
   ],
   "source": [
    "encode_data=encoder.fit_transform(data[columns_to_encoder])"
   ],
   "metadata": {
    "collapsed": false,
    "ExecuteTime": {
     "start_time": "2023-06-28T19:52:18.840747Z",
     "end_time": "2023-06-28T19:52:18.857749Z"
    }
   }
  },
  {
   "cell_type": "code",
   "execution_count": 50,
   "outputs": [
    {
     "data": {
      "text/plain": "array([[0., 0., 1., ..., 0., 1., 0.],\n       [0., 0., 1., ..., 0., 1., 0.],\n       [0., 0., 1., ..., 0., 1., 0.],\n       ...,\n       [0., 0., 0., ..., 1., 0., 1.],\n       [0., 0., 0., ..., 1., 1., 0.],\n       [0., 0., 0., ..., 1., 1., 0.]])"
     },
     "execution_count": 50,
     "metadata": {},
     "output_type": "execute_result"
    }
   ],
   "source": [
    "encode_data"
   ],
   "metadata": {
    "collapsed": false,
    "ExecuteTime": {
     "start_time": "2023-06-28T19:52:19.013748Z",
     "end_time": "2023-06-28T19:52:19.030748Z"
    }
   }
  },
  {
   "cell_type": "code",
   "execution_count": 51,
   "outputs": [],
   "source": [
    "encoded_df=pd.DataFrame(encode_data,columns=encoder.get_feature_names_out(columns_to_encoder))"
   ],
   "metadata": {
    "collapsed": false,
    "ExecuteTime": {
     "start_time": "2023-06-28T19:52:19.184748Z",
     "end_time": "2023-06-28T19:52:19.202747Z"
    }
   }
  },
  {
   "cell_type": "code",
   "execution_count": 52,
   "outputs": [],
   "source": [
    "data=pd.concat([data,encoded_df],axis=1)"
   ],
   "metadata": {
    "collapsed": false,
    "ExecuteTime": {
     "start_time": "2023-06-28T19:52:19.357747Z",
     "end_time": "2023-06-28T19:52:19.381747Z"
    }
   }
  },
  {
   "cell_type": "code",
   "execution_count": 53,
   "outputs": [
    {
     "data": {
      "text/plain": "      pipe-dia  pipe-mat  pipe-bd  先前失效  pipe-pre  pipe-len  pipe-age  a7  \\\n0     0.285714         2   0.6875     0  0.416667  0.028876  0.000000   0   \n1     0.285714         2   0.6250     0  0.708333  0.014238  0.296296   0   \n2     0.285714         2   0.0625     0  0.166667  0.061288  0.166667   0   \n3     0.285714         2   0.5625     0  0.375000  0.054916  0.185185   0   \n4     0.285714         2   0.3125     0  0.083333  0.070940  0.185185   0   \n...        ...       ...      ...   ...       ...       ...       ...  ..   \n2795  0.285714         1   0.3150     1  0.416667  0.389229  0.444444   1   \n2796  0.285714         6   0.3175     0  0.375000  0.138432  0.537037   1   \n2797  0.285714         6   0.1250     1  0.125000  1.000000  0.407407   1   \n2798  0.285714         6   0.1250     0  0.583333  0.002582  0.574074   1   \n2799  0.285714         6   0.5000     0  0.458333  0.030858  0.629630   1   \n\n      pipe-mat_0  pipe-mat_1  pipe-mat_2  pipe-mat_3  pipe-mat_4  pipe-mat_5  \\\n0            0.0         0.0         1.0         0.0         0.0         0.0   \n1            0.0         0.0         1.0         0.0         0.0         0.0   \n2            0.0         0.0         1.0         0.0         0.0         0.0   \n3            0.0         0.0         1.0         0.0         0.0         0.0   \n4            0.0         0.0         1.0         0.0         0.0         0.0   \n...          ...         ...         ...         ...         ...         ...   \n2795         0.0         1.0         0.0         0.0         0.0         0.0   \n2796         0.0         0.0         0.0         0.0         0.0         0.0   \n2797         0.0         0.0         0.0         0.0         0.0         0.0   \n2798         0.0         0.0         0.0         0.0         0.0         0.0   \n2799         0.0         0.0         0.0         0.0         0.0         0.0   \n\n      pipe-mat_6  先前失效_0  先前失效_1  \n0            0.0     1.0     0.0  \n1            0.0     1.0     0.0  \n2            0.0     1.0     0.0  \n3            0.0     1.0     0.0  \n4            0.0     1.0     0.0  \n...          ...     ...     ...  \n2795         0.0     0.0     1.0  \n2796         1.0     1.0     0.0  \n2797         1.0     0.0     1.0  \n2798         1.0     1.0     0.0  \n2799         1.0     1.0     0.0  \n\n[2800 rows x 17 columns]",
      "text/html": "<div>\n<style scoped>\n    .dataframe tbody tr th:only-of-type {\n        vertical-align: middle;\n    }\n\n    .dataframe tbody tr th {\n        vertical-align: top;\n    }\n\n    .dataframe thead th {\n        text-align: right;\n    }\n</style>\n<table border=\"1\" class=\"dataframe\">\n  <thead>\n    <tr style=\"text-align: right;\">\n      <th></th>\n      <th>pipe-dia</th>\n      <th>pipe-mat</th>\n      <th>pipe-bd</th>\n      <th>先前失效</th>\n      <th>pipe-pre</th>\n      <th>pipe-len</th>\n      <th>pipe-age</th>\n      <th>a7</th>\n      <th>pipe-mat_0</th>\n      <th>pipe-mat_1</th>\n      <th>pipe-mat_2</th>\n      <th>pipe-mat_3</th>\n      <th>pipe-mat_4</th>\n      <th>pipe-mat_5</th>\n      <th>pipe-mat_6</th>\n      <th>先前失效_0</th>\n      <th>先前失效_1</th>\n    </tr>\n  </thead>\n  <tbody>\n    <tr>\n      <th>0</th>\n      <td>0.285714</td>\n      <td>2</td>\n      <td>0.6875</td>\n      <td>0</td>\n      <td>0.416667</td>\n      <td>0.028876</td>\n      <td>0.000000</td>\n      <td>0</td>\n      <td>0.0</td>\n      <td>0.0</td>\n      <td>1.0</td>\n      <td>0.0</td>\n      <td>0.0</td>\n      <td>0.0</td>\n      <td>0.0</td>\n      <td>1.0</td>\n      <td>0.0</td>\n    </tr>\n    <tr>\n      <th>1</th>\n      <td>0.285714</td>\n      <td>2</td>\n      <td>0.6250</td>\n      <td>0</td>\n      <td>0.708333</td>\n      <td>0.014238</td>\n      <td>0.296296</td>\n      <td>0</td>\n      <td>0.0</td>\n      <td>0.0</td>\n      <td>1.0</td>\n      <td>0.0</td>\n      <td>0.0</td>\n      <td>0.0</td>\n      <td>0.0</td>\n      <td>1.0</td>\n      <td>0.0</td>\n    </tr>\n    <tr>\n      <th>2</th>\n      <td>0.285714</td>\n      <td>2</td>\n      <td>0.0625</td>\n      <td>0</td>\n      <td>0.166667</td>\n      <td>0.061288</td>\n      <td>0.166667</td>\n      <td>0</td>\n      <td>0.0</td>\n      <td>0.0</td>\n      <td>1.0</td>\n      <td>0.0</td>\n      <td>0.0</td>\n      <td>0.0</td>\n      <td>0.0</td>\n      <td>1.0</td>\n      <td>0.0</td>\n    </tr>\n    <tr>\n      <th>3</th>\n      <td>0.285714</td>\n      <td>2</td>\n      <td>0.5625</td>\n      <td>0</td>\n      <td>0.375000</td>\n      <td>0.054916</td>\n      <td>0.185185</td>\n      <td>0</td>\n      <td>0.0</td>\n      <td>0.0</td>\n      <td>1.0</td>\n      <td>0.0</td>\n      <td>0.0</td>\n      <td>0.0</td>\n      <td>0.0</td>\n      <td>1.0</td>\n      <td>0.0</td>\n    </tr>\n    <tr>\n      <th>4</th>\n      <td>0.285714</td>\n      <td>2</td>\n      <td>0.3125</td>\n      <td>0</td>\n      <td>0.083333</td>\n      <td>0.070940</td>\n      <td>0.185185</td>\n      <td>0</td>\n      <td>0.0</td>\n      <td>0.0</td>\n      <td>1.0</td>\n      <td>0.0</td>\n      <td>0.0</td>\n      <td>0.0</td>\n      <td>0.0</td>\n      <td>1.0</td>\n      <td>0.0</td>\n    </tr>\n    <tr>\n      <th>...</th>\n      <td>...</td>\n      <td>...</td>\n      <td>...</td>\n      <td>...</td>\n      <td>...</td>\n      <td>...</td>\n      <td>...</td>\n      <td>...</td>\n      <td>...</td>\n      <td>...</td>\n      <td>...</td>\n      <td>...</td>\n      <td>...</td>\n      <td>...</td>\n      <td>...</td>\n      <td>...</td>\n      <td>...</td>\n    </tr>\n    <tr>\n      <th>2795</th>\n      <td>0.285714</td>\n      <td>1</td>\n      <td>0.3150</td>\n      <td>1</td>\n      <td>0.416667</td>\n      <td>0.389229</td>\n      <td>0.444444</td>\n      <td>1</td>\n      <td>0.0</td>\n      <td>1.0</td>\n      <td>0.0</td>\n      <td>0.0</td>\n      <td>0.0</td>\n      <td>0.0</td>\n      <td>0.0</td>\n      <td>0.0</td>\n      <td>1.0</td>\n    </tr>\n    <tr>\n      <th>2796</th>\n      <td>0.285714</td>\n      <td>6</td>\n      <td>0.3175</td>\n      <td>0</td>\n      <td>0.375000</td>\n      <td>0.138432</td>\n      <td>0.537037</td>\n      <td>1</td>\n      <td>0.0</td>\n      <td>0.0</td>\n      <td>0.0</td>\n      <td>0.0</td>\n      <td>0.0</td>\n      <td>0.0</td>\n      <td>1.0</td>\n      <td>1.0</td>\n      <td>0.0</td>\n    </tr>\n    <tr>\n      <th>2797</th>\n      <td>0.285714</td>\n      <td>6</td>\n      <td>0.1250</td>\n      <td>1</td>\n      <td>0.125000</td>\n      <td>1.000000</td>\n      <td>0.407407</td>\n      <td>1</td>\n      <td>0.0</td>\n      <td>0.0</td>\n      <td>0.0</td>\n      <td>0.0</td>\n      <td>0.0</td>\n      <td>0.0</td>\n      <td>1.0</td>\n      <td>0.0</td>\n      <td>1.0</td>\n    </tr>\n    <tr>\n      <th>2798</th>\n      <td>0.285714</td>\n      <td>6</td>\n      <td>0.1250</td>\n      <td>0</td>\n      <td>0.583333</td>\n      <td>0.002582</td>\n      <td>0.574074</td>\n      <td>1</td>\n      <td>0.0</td>\n      <td>0.0</td>\n      <td>0.0</td>\n      <td>0.0</td>\n      <td>0.0</td>\n      <td>0.0</td>\n      <td>1.0</td>\n      <td>1.0</td>\n      <td>0.0</td>\n    </tr>\n    <tr>\n      <th>2799</th>\n      <td>0.285714</td>\n      <td>6</td>\n      <td>0.5000</td>\n      <td>0</td>\n      <td>0.458333</td>\n      <td>0.030858</td>\n      <td>0.629630</td>\n      <td>1</td>\n      <td>0.0</td>\n      <td>0.0</td>\n      <td>0.0</td>\n      <td>0.0</td>\n      <td>0.0</td>\n      <td>0.0</td>\n      <td>1.0</td>\n      <td>1.0</td>\n      <td>0.0</td>\n    </tr>\n  </tbody>\n</table>\n<p>2800 rows × 17 columns</p>\n</div>"
     },
     "execution_count": 53,
     "metadata": {},
     "output_type": "execute_result"
    }
   ],
   "source": [
    "data"
   ],
   "metadata": {
    "collapsed": false,
    "ExecuteTime": {
     "start_time": "2023-06-28T19:52:19.530747Z",
     "end_time": "2023-06-28T19:52:19.548749Z"
    }
   }
  },
  {
   "cell_type": "code",
   "execution_count": 54,
   "outputs": [],
   "source": [
    "data=data.drop(data.columns[1],axis=1)"
   ],
   "metadata": {
    "collapsed": false,
    "ExecuteTime": {
     "start_time": "2023-06-28T19:52:19.703750Z",
     "end_time": "2023-06-28T19:52:19.720748Z"
    }
   }
  },
  {
   "cell_type": "code",
   "execution_count": 55,
   "outputs": [],
   "source": [
    "data=data.drop(data.columns[2],axis=1)"
   ],
   "metadata": {
    "collapsed": false,
    "ExecuteTime": {
     "start_time": "2023-06-28T19:52:19.876748Z",
     "end_time": "2023-06-28T19:52:19.892749Z"
    }
   }
  },
  {
   "cell_type": "code",
   "execution_count": 56,
   "outputs": [
    {
     "data": {
      "text/plain": "      pipe-dia  pipe-bd  pipe-pre  pipe-len  pipe-age  a7  pipe-mat_0  \\\n0     0.285714   0.6875  0.416667  0.028876  0.000000   0         0.0   \n1     0.285714   0.6250  0.708333  0.014238  0.296296   0         0.0   \n2     0.285714   0.0625  0.166667  0.061288  0.166667   0         0.0   \n3     0.285714   0.5625  0.375000  0.054916  0.185185   0         0.0   \n4     0.285714   0.3125  0.083333  0.070940  0.185185   0         0.0   \n...        ...      ...       ...       ...       ...  ..         ...   \n2795  0.285714   0.3150  0.416667  0.389229  0.444444   1         0.0   \n2796  0.285714   0.3175  0.375000  0.138432  0.537037   1         0.0   \n2797  0.285714   0.1250  0.125000  1.000000  0.407407   1         0.0   \n2798  0.285714   0.1250  0.583333  0.002582  0.574074   1         0.0   \n2799  0.285714   0.5000  0.458333  0.030858  0.629630   1         0.0   \n\n      pipe-mat_1  pipe-mat_2  pipe-mat_3  pipe-mat_4  pipe-mat_5  pipe-mat_6  \\\n0            0.0         1.0         0.0         0.0         0.0         0.0   \n1            0.0         1.0         0.0         0.0         0.0         0.0   \n2            0.0         1.0         0.0         0.0         0.0         0.0   \n3            0.0         1.0         0.0         0.0         0.0         0.0   \n4            0.0         1.0         0.0         0.0         0.0         0.0   \n...          ...         ...         ...         ...         ...         ...   \n2795         1.0         0.0         0.0         0.0         0.0         0.0   \n2796         0.0         0.0         0.0         0.0         0.0         1.0   \n2797         0.0         0.0         0.0         0.0         0.0         1.0   \n2798         0.0         0.0         0.0         0.0         0.0         1.0   \n2799         0.0         0.0         0.0         0.0         0.0         1.0   \n\n      先前失效_0  先前失效_1  \n0        1.0     0.0  \n1        1.0     0.0  \n2        1.0     0.0  \n3        1.0     0.0  \n4        1.0     0.0  \n...      ...     ...  \n2795     0.0     1.0  \n2796     1.0     0.0  \n2797     0.0     1.0  \n2798     1.0     0.0  \n2799     1.0     0.0  \n\n[2800 rows x 15 columns]",
      "text/html": "<div>\n<style scoped>\n    .dataframe tbody tr th:only-of-type {\n        vertical-align: middle;\n    }\n\n    .dataframe tbody tr th {\n        vertical-align: top;\n    }\n\n    .dataframe thead th {\n        text-align: right;\n    }\n</style>\n<table border=\"1\" class=\"dataframe\">\n  <thead>\n    <tr style=\"text-align: right;\">\n      <th></th>\n      <th>pipe-dia</th>\n      <th>pipe-bd</th>\n      <th>pipe-pre</th>\n      <th>pipe-len</th>\n      <th>pipe-age</th>\n      <th>a7</th>\n      <th>pipe-mat_0</th>\n      <th>pipe-mat_1</th>\n      <th>pipe-mat_2</th>\n      <th>pipe-mat_3</th>\n      <th>pipe-mat_4</th>\n      <th>pipe-mat_5</th>\n      <th>pipe-mat_6</th>\n      <th>先前失效_0</th>\n      <th>先前失效_1</th>\n    </tr>\n  </thead>\n  <tbody>\n    <tr>\n      <th>0</th>\n      <td>0.285714</td>\n      <td>0.6875</td>\n      <td>0.416667</td>\n      <td>0.028876</td>\n      <td>0.000000</td>\n      <td>0</td>\n      <td>0.0</td>\n      <td>0.0</td>\n      <td>1.0</td>\n      <td>0.0</td>\n      <td>0.0</td>\n      <td>0.0</td>\n      <td>0.0</td>\n      <td>1.0</td>\n      <td>0.0</td>\n    </tr>\n    <tr>\n      <th>1</th>\n      <td>0.285714</td>\n      <td>0.6250</td>\n      <td>0.708333</td>\n      <td>0.014238</td>\n      <td>0.296296</td>\n      <td>0</td>\n      <td>0.0</td>\n      <td>0.0</td>\n      <td>1.0</td>\n      <td>0.0</td>\n      <td>0.0</td>\n      <td>0.0</td>\n      <td>0.0</td>\n      <td>1.0</td>\n      <td>0.0</td>\n    </tr>\n    <tr>\n      <th>2</th>\n      <td>0.285714</td>\n      <td>0.0625</td>\n      <td>0.166667</td>\n      <td>0.061288</td>\n      <td>0.166667</td>\n      <td>0</td>\n      <td>0.0</td>\n      <td>0.0</td>\n      <td>1.0</td>\n      <td>0.0</td>\n      <td>0.0</td>\n      <td>0.0</td>\n      <td>0.0</td>\n      <td>1.0</td>\n      <td>0.0</td>\n    </tr>\n    <tr>\n      <th>3</th>\n      <td>0.285714</td>\n      <td>0.5625</td>\n      <td>0.375000</td>\n      <td>0.054916</td>\n      <td>0.185185</td>\n      <td>0</td>\n      <td>0.0</td>\n      <td>0.0</td>\n      <td>1.0</td>\n      <td>0.0</td>\n      <td>0.0</td>\n      <td>0.0</td>\n      <td>0.0</td>\n      <td>1.0</td>\n      <td>0.0</td>\n    </tr>\n    <tr>\n      <th>4</th>\n      <td>0.285714</td>\n      <td>0.3125</td>\n      <td>0.083333</td>\n      <td>0.070940</td>\n      <td>0.185185</td>\n      <td>0</td>\n      <td>0.0</td>\n      <td>0.0</td>\n      <td>1.0</td>\n      <td>0.0</td>\n      <td>0.0</td>\n      <td>0.0</td>\n      <td>0.0</td>\n      <td>1.0</td>\n      <td>0.0</td>\n    </tr>\n    <tr>\n      <th>...</th>\n      <td>...</td>\n      <td>...</td>\n      <td>...</td>\n      <td>...</td>\n      <td>...</td>\n      <td>...</td>\n      <td>...</td>\n      <td>...</td>\n      <td>...</td>\n      <td>...</td>\n      <td>...</td>\n      <td>...</td>\n      <td>...</td>\n      <td>...</td>\n      <td>...</td>\n    </tr>\n    <tr>\n      <th>2795</th>\n      <td>0.285714</td>\n      <td>0.3150</td>\n      <td>0.416667</td>\n      <td>0.389229</td>\n      <td>0.444444</td>\n      <td>1</td>\n      <td>0.0</td>\n      <td>1.0</td>\n      <td>0.0</td>\n      <td>0.0</td>\n      <td>0.0</td>\n      <td>0.0</td>\n      <td>0.0</td>\n      <td>0.0</td>\n      <td>1.0</td>\n    </tr>\n    <tr>\n      <th>2796</th>\n      <td>0.285714</td>\n      <td>0.3175</td>\n      <td>0.375000</td>\n      <td>0.138432</td>\n      <td>0.537037</td>\n      <td>1</td>\n      <td>0.0</td>\n      <td>0.0</td>\n      <td>0.0</td>\n      <td>0.0</td>\n      <td>0.0</td>\n      <td>0.0</td>\n      <td>1.0</td>\n      <td>1.0</td>\n      <td>0.0</td>\n    </tr>\n    <tr>\n      <th>2797</th>\n      <td>0.285714</td>\n      <td>0.1250</td>\n      <td>0.125000</td>\n      <td>1.000000</td>\n      <td>0.407407</td>\n      <td>1</td>\n      <td>0.0</td>\n      <td>0.0</td>\n      <td>0.0</td>\n      <td>0.0</td>\n      <td>0.0</td>\n      <td>0.0</td>\n      <td>1.0</td>\n      <td>0.0</td>\n      <td>1.0</td>\n    </tr>\n    <tr>\n      <th>2798</th>\n      <td>0.285714</td>\n      <td>0.1250</td>\n      <td>0.583333</td>\n      <td>0.002582</td>\n      <td>0.574074</td>\n      <td>1</td>\n      <td>0.0</td>\n      <td>0.0</td>\n      <td>0.0</td>\n      <td>0.0</td>\n      <td>0.0</td>\n      <td>0.0</td>\n      <td>1.0</td>\n      <td>1.0</td>\n      <td>0.0</td>\n    </tr>\n    <tr>\n      <th>2799</th>\n      <td>0.285714</td>\n      <td>0.5000</td>\n      <td>0.458333</td>\n      <td>0.030858</td>\n      <td>0.629630</td>\n      <td>1</td>\n      <td>0.0</td>\n      <td>0.0</td>\n      <td>0.0</td>\n      <td>0.0</td>\n      <td>0.0</td>\n      <td>0.0</td>\n      <td>1.0</td>\n      <td>1.0</td>\n      <td>0.0</td>\n    </tr>\n  </tbody>\n</table>\n<p>2800 rows × 15 columns</p>\n</div>"
     },
     "execution_count": 56,
     "metadata": {},
     "output_type": "execute_result"
    }
   ],
   "source": [
    "data"
   ],
   "metadata": {
    "collapsed": false,
    "ExecuteTime": {
     "start_time": "2023-06-28T19:52:20.038746Z",
     "end_time": "2023-06-28T19:52:20.051746Z"
    }
   }
  },
  {
   "cell_type": "code",
   "execution_count": 57,
   "outputs": [],
   "source": [
    "data=data.rename(columns={'a7':'label'})"
   ],
   "metadata": {
    "collapsed": false,
    "ExecuteTime": {
     "start_time": "2023-06-28T19:52:20.334749Z",
     "end_time": "2023-06-28T19:52:20.349748Z"
    }
   }
  },
  {
   "cell_type": "code",
   "execution_count": 58,
   "outputs": [
    {
     "data": {
      "text/plain": "      pipe-dia  pipe-bd  pipe-pre  pipe-len  pipe-age  label  pipe-mat_0  \\\n0     0.285714   0.6875  0.416667  0.028876  0.000000      0         0.0   \n1     0.285714   0.6250  0.708333  0.014238  0.296296      0         0.0   \n2     0.285714   0.0625  0.166667  0.061288  0.166667      0         0.0   \n3     0.285714   0.5625  0.375000  0.054916  0.185185      0         0.0   \n4     0.285714   0.3125  0.083333  0.070940  0.185185      0         0.0   \n...        ...      ...       ...       ...       ...    ...         ...   \n2795  0.285714   0.3150  0.416667  0.389229  0.444444      1         0.0   \n2796  0.285714   0.3175  0.375000  0.138432  0.537037      1         0.0   \n2797  0.285714   0.1250  0.125000  1.000000  0.407407      1         0.0   \n2798  0.285714   0.1250  0.583333  0.002582  0.574074      1         0.0   \n2799  0.285714   0.5000  0.458333  0.030858  0.629630      1         0.0   \n\n      pipe-mat_1  pipe-mat_2  pipe-mat_3  pipe-mat_4  pipe-mat_5  pipe-mat_6  \\\n0            0.0         1.0         0.0         0.0         0.0         0.0   \n1            0.0         1.0         0.0         0.0         0.0         0.0   \n2            0.0         1.0         0.0         0.0         0.0         0.0   \n3            0.0         1.0         0.0         0.0         0.0         0.0   \n4            0.0         1.0         0.0         0.0         0.0         0.0   \n...          ...         ...         ...         ...         ...         ...   \n2795         1.0         0.0         0.0         0.0         0.0         0.0   \n2796         0.0         0.0         0.0         0.0         0.0         1.0   \n2797         0.0         0.0         0.0         0.0         0.0         1.0   \n2798         0.0         0.0         0.0         0.0         0.0         1.0   \n2799         0.0         0.0         0.0         0.0         0.0         1.0   \n\n      先前失效_0  先前失效_1  \n0        1.0     0.0  \n1        1.0     0.0  \n2        1.0     0.0  \n3        1.0     0.0  \n4        1.0     0.0  \n...      ...     ...  \n2795     0.0     1.0  \n2796     1.0     0.0  \n2797     0.0     1.0  \n2798     1.0     0.0  \n2799     1.0     0.0  \n\n[2800 rows x 15 columns]",
      "text/html": "<div>\n<style scoped>\n    .dataframe tbody tr th:only-of-type {\n        vertical-align: middle;\n    }\n\n    .dataframe tbody tr th {\n        vertical-align: top;\n    }\n\n    .dataframe thead th {\n        text-align: right;\n    }\n</style>\n<table border=\"1\" class=\"dataframe\">\n  <thead>\n    <tr style=\"text-align: right;\">\n      <th></th>\n      <th>pipe-dia</th>\n      <th>pipe-bd</th>\n      <th>pipe-pre</th>\n      <th>pipe-len</th>\n      <th>pipe-age</th>\n      <th>label</th>\n      <th>pipe-mat_0</th>\n      <th>pipe-mat_1</th>\n      <th>pipe-mat_2</th>\n      <th>pipe-mat_3</th>\n      <th>pipe-mat_4</th>\n      <th>pipe-mat_5</th>\n      <th>pipe-mat_6</th>\n      <th>先前失效_0</th>\n      <th>先前失效_1</th>\n    </tr>\n  </thead>\n  <tbody>\n    <tr>\n      <th>0</th>\n      <td>0.285714</td>\n      <td>0.6875</td>\n      <td>0.416667</td>\n      <td>0.028876</td>\n      <td>0.000000</td>\n      <td>0</td>\n      <td>0.0</td>\n      <td>0.0</td>\n      <td>1.0</td>\n      <td>0.0</td>\n      <td>0.0</td>\n      <td>0.0</td>\n      <td>0.0</td>\n      <td>1.0</td>\n      <td>0.0</td>\n    </tr>\n    <tr>\n      <th>1</th>\n      <td>0.285714</td>\n      <td>0.6250</td>\n      <td>0.708333</td>\n      <td>0.014238</td>\n      <td>0.296296</td>\n      <td>0</td>\n      <td>0.0</td>\n      <td>0.0</td>\n      <td>1.0</td>\n      <td>0.0</td>\n      <td>0.0</td>\n      <td>0.0</td>\n      <td>0.0</td>\n      <td>1.0</td>\n      <td>0.0</td>\n    </tr>\n    <tr>\n      <th>2</th>\n      <td>0.285714</td>\n      <td>0.0625</td>\n      <td>0.166667</td>\n      <td>0.061288</td>\n      <td>0.166667</td>\n      <td>0</td>\n      <td>0.0</td>\n      <td>0.0</td>\n      <td>1.0</td>\n      <td>0.0</td>\n      <td>0.0</td>\n      <td>0.0</td>\n      <td>0.0</td>\n      <td>1.0</td>\n      <td>0.0</td>\n    </tr>\n    <tr>\n      <th>3</th>\n      <td>0.285714</td>\n      <td>0.5625</td>\n      <td>0.375000</td>\n      <td>0.054916</td>\n      <td>0.185185</td>\n      <td>0</td>\n      <td>0.0</td>\n      <td>0.0</td>\n      <td>1.0</td>\n      <td>0.0</td>\n      <td>0.0</td>\n      <td>0.0</td>\n      <td>0.0</td>\n      <td>1.0</td>\n      <td>0.0</td>\n    </tr>\n    <tr>\n      <th>4</th>\n      <td>0.285714</td>\n      <td>0.3125</td>\n      <td>0.083333</td>\n      <td>0.070940</td>\n      <td>0.185185</td>\n      <td>0</td>\n      <td>0.0</td>\n      <td>0.0</td>\n      <td>1.0</td>\n      <td>0.0</td>\n      <td>0.0</td>\n      <td>0.0</td>\n      <td>0.0</td>\n      <td>1.0</td>\n      <td>0.0</td>\n    </tr>\n    <tr>\n      <th>...</th>\n      <td>...</td>\n      <td>...</td>\n      <td>...</td>\n      <td>...</td>\n      <td>...</td>\n      <td>...</td>\n      <td>...</td>\n      <td>...</td>\n      <td>...</td>\n      <td>...</td>\n      <td>...</td>\n      <td>...</td>\n      <td>...</td>\n      <td>...</td>\n      <td>...</td>\n    </tr>\n    <tr>\n      <th>2795</th>\n      <td>0.285714</td>\n      <td>0.3150</td>\n      <td>0.416667</td>\n      <td>0.389229</td>\n      <td>0.444444</td>\n      <td>1</td>\n      <td>0.0</td>\n      <td>1.0</td>\n      <td>0.0</td>\n      <td>0.0</td>\n      <td>0.0</td>\n      <td>0.0</td>\n      <td>0.0</td>\n      <td>0.0</td>\n      <td>1.0</td>\n    </tr>\n    <tr>\n      <th>2796</th>\n      <td>0.285714</td>\n      <td>0.3175</td>\n      <td>0.375000</td>\n      <td>0.138432</td>\n      <td>0.537037</td>\n      <td>1</td>\n      <td>0.0</td>\n      <td>0.0</td>\n      <td>0.0</td>\n      <td>0.0</td>\n      <td>0.0</td>\n      <td>0.0</td>\n      <td>1.0</td>\n      <td>1.0</td>\n      <td>0.0</td>\n    </tr>\n    <tr>\n      <th>2797</th>\n      <td>0.285714</td>\n      <td>0.1250</td>\n      <td>0.125000</td>\n      <td>1.000000</td>\n      <td>0.407407</td>\n      <td>1</td>\n      <td>0.0</td>\n      <td>0.0</td>\n      <td>0.0</td>\n      <td>0.0</td>\n      <td>0.0</td>\n      <td>0.0</td>\n      <td>1.0</td>\n      <td>0.0</td>\n      <td>1.0</td>\n    </tr>\n    <tr>\n      <th>2798</th>\n      <td>0.285714</td>\n      <td>0.1250</td>\n      <td>0.583333</td>\n      <td>0.002582</td>\n      <td>0.574074</td>\n      <td>1</td>\n      <td>0.0</td>\n      <td>0.0</td>\n      <td>0.0</td>\n      <td>0.0</td>\n      <td>0.0</td>\n      <td>0.0</td>\n      <td>1.0</td>\n      <td>1.0</td>\n      <td>0.0</td>\n    </tr>\n    <tr>\n      <th>2799</th>\n      <td>0.285714</td>\n      <td>0.5000</td>\n      <td>0.458333</td>\n      <td>0.030858</td>\n      <td>0.629630</td>\n      <td>1</td>\n      <td>0.0</td>\n      <td>0.0</td>\n      <td>0.0</td>\n      <td>0.0</td>\n      <td>0.0</td>\n      <td>0.0</td>\n      <td>1.0</td>\n      <td>1.0</td>\n      <td>0.0</td>\n    </tr>\n  </tbody>\n</table>\n<p>2800 rows × 15 columns</p>\n</div>"
     },
     "execution_count": 58,
     "metadata": {},
     "output_type": "execute_result"
    }
   ],
   "source": [
    "data"
   ],
   "metadata": {
    "collapsed": false,
    "ExecuteTime": {
     "start_time": "2023-06-28T19:52:20.493751Z",
     "end_time": "2023-06-28T19:52:20.511750Z"
    }
   }
  },
  {
   "cell_type": "code",
   "execution_count": 59,
   "outputs": [],
   "source": [
    "cols=data.columns.tolist()"
   ],
   "metadata": {
    "collapsed": false,
    "ExecuteTime": {
     "start_time": "2023-06-28T19:52:20.681748Z",
     "end_time": "2023-06-28T19:52:20.697750Z"
    }
   }
  },
  {
   "cell_type": "code",
   "execution_count": 60,
   "outputs": [],
   "source": [
    "cols.append(cols.pop(5))"
   ],
   "metadata": {
    "collapsed": false,
    "ExecuteTime": {
     "start_time": "2023-06-28T19:52:20.964748Z",
     "end_time": "2023-06-28T19:52:20.984750Z"
    }
   }
  },
  {
   "cell_type": "code",
   "execution_count": 61,
   "outputs": [
    {
     "data": {
      "text/plain": "['pipe-dia',\n 'pipe-bd',\n 'pipe-pre',\n 'pipe-len',\n 'pipe-age',\n 'pipe-mat_0',\n 'pipe-mat_1',\n 'pipe-mat_2',\n 'pipe-mat_3',\n 'pipe-mat_4',\n 'pipe-mat_5',\n 'pipe-mat_6',\n '先前失效_0',\n '先前失效_1',\n 'label']"
     },
     "execution_count": 61,
     "metadata": {},
     "output_type": "execute_result"
    }
   ],
   "source": [
    "cols"
   ],
   "metadata": {
    "collapsed": false,
    "ExecuteTime": {
     "start_time": "2023-06-28T19:52:21.181751Z",
     "end_time": "2023-06-28T19:52:21.199747Z"
    }
   }
  },
  {
   "cell_type": "code",
   "execution_count": 62,
   "outputs": [],
   "source": [
    "data=data[cols]"
   ],
   "metadata": {
    "collapsed": false,
    "ExecuteTime": {
     "start_time": "2023-06-28T19:52:21.354748Z",
     "end_time": "2023-06-28T19:52:21.369748Z"
    }
   }
  },
  {
   "cell_type": "code",
   "execution_count": 63,
   "outputs": [],
   "source": [
    "label=data['label']"
   ],
   "metadata": {
    "collapsed": false,
    "ExecuteTime": {
     "start_time": "2023-06-28T19:52:21.525747Z",
     "end_time": "2023-06-28T19:52:21.541747Z"
    }
   }
  },
  {
   "cell_type": "code",
   "execution_count": 64,
   "outputs": [],
   "source": [
    "label=label.values"
   ],
   "metadata": {
    "collapsed": false,
    "ExecuteTime": {
     "start_time": "2023-06-28T19:52:21.681747Z",
     "end_time": "2023-06-28T19:52:21.698747Z"
    }
   }
  },
  {
   "cell_type": "code",
   "execution_count": 65,
   "outputs": [
    {
     "data": {
      "text/plain": "408"
     },
     "execution_count": 65,
     "metadata": {},
     "output_type": "execute_result"
    }
   ],
   "source": [
    "np.count_nonzero(label)"
   ],
   "metadata": {
    "collapsed": false,
    "ExecuteTime": {
     "start_time": "2023-06-28T19:52:21.823748Z",
     "end_time": "2023-06-28T19:52:21.841747Z"
    }
   }
  },
  {
   "cell_type": "code",
   "execution_count": 66,
   "outputs": [],
   "source": [
    "import scipy.sparse as sparse"
   ],
   "metadata": {
    "collapsed": false,
    "ExecuteTime": {
     "start_time": "2023-06-28T19:52:21.997747Z",
     "end_time": "2023-06-28T19:52:22.022747Z"
    }
   }
  },
  {
   "cell_type": "code",
   "execution_count": 67,
   "outputs": [
    {
     "data": {
      "text/plain": "array([0, 0, 0, ..., 1, 1, 1], dtype=int64)"
     },
     "execution_count": 67,
     "metadata": {},
     "output_type": "execute_result"
    }
   ],
   "source": [
    "label"
   ],
   "metadata": {
    "collapsed": false,
    "ExecuteTime": {
     "start_time": "2023-06-28T19:52:22.170748Z",
     "end_time": "2023-06-28T19:52:22.187747Z"
    }
   }
  },
  {
   "cell_type": "code",
   "execution_count": 68,
   "outputs": [
    {
     "data": {
      "text/plain": "array([[0., 0., 0., ..., 0., 0., 0.],\n       [0., 0., 0., ..., 0., 0., 0.],\n       [0., 0., 0., ..., 0., 0., 0.],\n       ...,\n       [0., 0., 0., ..., 0., 0., 0.],\n       [0., 0., 0., ..., 0., 0., 0.],\n       [0., 0., 0., ..., 0., 0., 0.]])"
     },
     "execution_count": 68,
     "metadata": {},
     "output_type": "execute_result"
    }
   ],
   "source": [
    "def generate_adjacency_matrix(num_nodes,max_neighbors):\n",
    "    adjacency_matrix=np.zeros((num_nodes,num_nodes))\n",
    "    for node in range(num_nodes):\n",
    "        num_neighbors=random.randint(1,max_neighbors)\n",
    "        neighbors=random.sample(range(num_nodes),num_neighbors)\n",
    "        adjacency_matrix[node,neighbors]=1\n",
    "        adjacency_matrix[neighbors,node]=1\n",
    "\n",
    "    return adjacency_matrix\n",
    "num_nodes=2800\n",
    "max_neighbors=3\n",
    "\n",
    "adjancency_matrix=generate_adjacency_matrix(num_nodes,max_neighbors)\n",
    "adjancency_matrix"
   ],
   "metadata": {
    "collapsed": false,
    "ExecuteTime": {
     "start_time": "2023-06-28T19:52:22.344747Z",
     "end_time": "2023-06-28T19:52:22.374747Z"
    }
   }
  },
  {
   "cell_type": "code",
   "execution_count": 69,
   "outputs": [],
   "source": [
    "Network=sparse.coo_matrix(adjancency_matrix)"
   ],
   "metadata": {
    "collapsed": false,
    "ExecuteTime": {
     "start_time": "2023-06-28T19:52:22.505748Z",
     "end_time": "2023-06-28T19:52:22.550746Z"
    }
   }
  },
  {
   "cell_type": "code",
   "execution_count": 70,
   "outputs": [
    {
     "data": {
      "text/plain": "<2800x2800 sparse matrix of type '<class 'numpy.float64'>'\n\twith 11290 stored elements in COOrdinate format>"
     },
     "execution_count": 70,
     "metadata": {},
     "output_type": "execute_result"
    }
   ],
   "source": [
    "Network"
   ],
   "metadata": {
    "collapsed": false,
    "ExecuteTime": {
     "start_time": "2023-06-28T19:52:22.695749Z",
     "end_time": "2023-06-28T19:52:22.711747Z"
    }
   }
  },
  {
   "cell_type": "code",
   "execution_count": 71,
   "outputs": [],
   "source": [
    "\n",
    "atr_data=data.drop(data.columns[-1],axis=1)\n",
    "Attributes=atr_data.values"
   ],
   "metadata": {
    "collapsed": false,
    "ExecuteTime": {
     "start_time": "2023-06-28T19:52:22.840747Z",
     "end_time": "2023-06-28T19:52:22.856747Z"
    }
   }
  },
  {
   "cell_type": "code",
   "execution_count": 72,
   "outputs": [],
   "source": [
    "Attributes=sparse.coo_matrix(Attributes)"
   ],
   "metadata": {
    "collapsed": false,
    "ExecuteTime": {
     "start_time": "2023-06-28T19:52:23.060747Z",
     "end_time": "2023-06-28T19:52:23.074746Z"
    }
   }
  },
  {
   "cell_type": "code",
   "execution_count": 73,
   "outputs": [
    {
     "data": {
      "text/plain": "<2800x14 sparse matrix of type '<class 'numpy.float64'>'\n\twith 19451 stored elements in COOrdinate format>"
     },
     "execution_count": 73,
     "metadata": {},
     "output_type": "execute_result"
    }
   ],
   "source": [
    "Attributes"
   ],
   "metadata": {
    "collapsed": false,
    "ExecuteTime": {
     "start_time": "2023-06-28T19:52:23.220748Z",
     "end_time": "2023-06-28T19:52:23.234747Z"
    }
   }
  },
  {
   "cell_type": "code",
   "execution_count": 74,
   "outputs": [],
   "source": [
    "Class=np.zeros((2800,1))"
   ],
   "metadata": {
    "collapsed": false,
    "ExecuteTime": {
     "start_time": "2023-06-28T19:52:23.756748Z",
     "end_time": "2023-06-28T19:52:23.770749Z"
    }
   }
  },
  {
   "cell_type": "code",
   "execution_count": 75,
   "outputs": [
    {
     "data": {
      "text/plain": "array([[0.],\n       [0.],\n       [0.],\n       ...,\n       [0.],\n       [0.],\n       [0.]])"
     },
     "execution_count": 75,
     "metadata": {},
     "output_type": "execute_result"
    }
   ],
   "source": [
    "Class"
   ],
   "metadata": {
    "collapsed": false,
    "ExecuteTime": {
     "start_time": "2023-06-28T19:52:23.773749Z",
     "end_time": "2023-06-28T19:52:23.786749Z"
    }
   }
  },
  {
   "cell_type": "code",
   "execution_count": 76,
   "outputs": [],
   "source": [
    "import scipy.io"
   ],
   "metadata": {
    "collapsed": false,
    "ExecuteTime": {
     "start_time": "2023-06-28T19:52:23.789749Z",
     "end_time": "2023-06-28T19:52:23.922747Z"
    }
   }
  },
  {
   "cell_type": "code",
   "execution_count": 77,
   "outputs": [],
   "source": [
    "data={'Network':Network,'Attributes':Attributes,'Label':label,'Class':Class}"
   ],
   "metadata": {
    "collapsed": false,
    "ExecuteTime": {
     "start_time": "2023-06-28T19:52:23.948749Z",
     "end_time": "2023-06-28T19:52:23.982747Z"
    }
   }
  },
  {
   "cell_type": "code",
   "execution_count": 78,
   "outputs": [],
   "source": [
    "scipy.io.savemat('data.mat',data)"
   ],
   "metadata": {
    "collapsed": false,
    "ExecuteTime": {
     "start_time": "2023-06-28T19:52:24.088747Z",
     "end_time": "2023-06-28T19:52:24.105749Z"
    }
   }
  },
  {
   "cell_type": "code",
   "execution_count": 79,
   "outputs": [],
   "source": [
    "data = scipy.io.loadmat('data.mat')"
   ],
   "metadata": {
    "collapsed": false,
    "ExecuteTime": {
     "start_time": "2023-06-28T19:52:24.295747Z",
     "end_time": "2023-06-28T19:52:24.311747Z"
    }
   }
  },
  {
   "cell_type": "code",
   "execution_count": 80,
   "outputs": [
    {
     "data": {
      "text/plain": "{'__header__': b'MATLAB 5.0 MAT-file Platform: nt, Created on: Wed Jun 28 19:52:24 2023',\n '__version__': '1.0',\n '__globals__': [],\n 'Network': <2800x2800 sparse matrix of type '<class 'numpy.float64'>'\n \twith 11290 stored elements in Compressed Sparse Column format>,\n 'Attributes': <2800x14 sparse matrix of type '<class 'numpy.float64'>'\n \twith 19451 stored elements in Compressed Sparse Column format>,\n 'Label': array([[0, 0, 0, ..., 1, 1, 1]], dtype=int64),\n 'Class': array([[0.],\n        [0.],\n        [0.],\n        ...,\n        [0.],\n        [0.],\n        [0.]])}"
     },
     "execution_count": 80,
     "metadata": {},
     "output_type": "execute_result"
    }
   ],
   "source": [
    "data"
   ],
   "metadata": {
    "collapsed": false,
    "ExecuteTime": {
     "start_time": "2023-06-28T19:52:24.469751Z",
     "end_time": "2023-06-28T19:52:24.495746Z"
    }
   }
  },
  {
   "cell_type": "code",
   "execution_count": 81,
   "outputs": [],
   "source": [
    "data = scipy.io.loadmat('data.mat')"
   ],
   "metadata": {
    "collapsed": false,
    "ExecuteTime": {
     "start_time": "2023-06-28T20:38:30.639453Z",
     "end_time": "2023-06-28T20:38:30.656451Z"
    }
   }
  },
  {
   "cell_type": "code",
   "execution_count": 82,
   "outputs": [
    {
     "data": {
      "text/plain": "{'__header__': b'MATLAB 5.0 MAT-file Platform: nt, Created on: Wed Jun 28 20:38:01 2023',\n '__version__': '1.0',\n '__globals__': [],\n 'Network': <2800x2800 sparse matrix of type '<class 'numpy.float64'>'\n \twith 11400 stored elements in Compressed Sparse Column format>,\n 'Attributes': <2800x14 sparse matrix of type '<class 'numpy.float64'>'\n \twith 19455 stored elements in Compressed Sparse Column format>,\n 'Label': array([[0, 0, 1, ..., 0, 0, 0]], dtype=int64),\n 'Class': array([[0.],\n        [0.],\n        [0.],\n        ...,\n        [0.],\n        [0.],\n        [0.]])}"
     },
     "execution_count": 82,
     "metadata": {},
     "output_type": "execute_result"
    }
   ],
   "source": [
    "data"
   ],
   "metadata": {
    "collapsed": false,
    "ExecuteTime": {
     "start_time": "2023-06-28T20:38:32.713084Z",
     "end_time": "2023-06-28T20:38:32.723083Z"
    }
   }
  },
  {
   "cell_type": "code",
   "execution_count": 92,
   "outputs": [],
   "source": [
    "str1='data_{}.mat'.format(1)"
   ],
   "metadata": {
    "collapsed": false,
    "ExecuteTime": {
     "start_time": "2023-06-28T20:53:00.401399Z",
     "end_time": "2023-06-28T20:53:00.415398Z"
    }
   }
  },
  {
   "cell_type": "code",
   "execution_count": 93,
   "outputs": [
    {
     "data": {
      "text/plain": "'data_1.mat'"
     },
     "execution_count": 93,
     "metadata": {},
     "output_type": "execute_result"
    }
   ],
   "source": [
    "str1"
   ],
   "metadata": {
    "collapsed": false,
    "ExecuteTime": {
     "start_time": "2023-06-28T20:53:02.205717Z",
     "end_time": "2023-06-28T20:53:02.226715Z"
    }
   }
  },
  {
   "cell_type": "code",
   "execution_count": 98,
   "outputs": [
    {
     "ename": "FileNotFoundError",
     "evalue": "[Errno 2] No such file or directory: 'data.mat'",
     "output_type": "error",
     "traceback": [
      "\u001B[1;31m---------------------------------------------------------------------------\u001B[0m",
      "\u001B[1;31mFileNotFoundError\u001B[0m                         Traceback (most recent call last)",
      "File \u001B[1;32mD:\\env\\DL\\lib\\site-packages\\scipy\\io\\matlab\\_mio.py:39\u001B[0m, in \u001B[0;36m_open_file\u001B[1;34m(file_like, appendmat, mode)\u001B[0m\n\u001B[0;32m     38\u001B[0m \u001B[38;5;28;01mtry\u001B[39;00m:\n\u001B[1;32m---> 39\u001B[0m     \u001B[38;5;28;01mreturn\u001B[39;00m \u001B[38;5;28;43mopen\u001B[39;49m\u001B[43m(\u001B[49m\u001B[43mfile_like\u001B[49m\u001B[43m,\u001B[49m\u001B[43m \u001B[49m\u001B[43mmode\u001B[49m\u001B[43m)\u001B[49m, \u001B[38;5;28;01mTrue\u001B[39;00m\n\u001B[0;32m     40\u001B[0m \u001B[38;5;28;01mexcept\u001B[39;00m \u001B[38;5;167;01mOSError\u001B[39;00m \u001B[38;5;28;01mas\u001B[39;00m e:\n\u001B[0;32m     41\u001B[0m     \u001B[38;5;66;03m# Probably \"not found\"\u001B[39;00m\n",
      "\u001B[1;31mFileNotFoundError\u001B[0m: [Errno 2] No such file or directory: 'data.mat'",
      "\nDuring handling of the above exception, another exception occurred:\n",
      "\u001B[1;31mFileNotFoundError\u001B[0m                         Traceback (most recent call last)",
      "Cell \u001B[1;32mIn[98], line 1\u001B[0m\n\u001B[1;32m----> 1\u001B[0m data \u001B[38;5;241m=\u001B[39m \u001B[43mscipy\u001B[49m\u001B[38;5;241;43m.\u001B[39;49m\u001B[43mio\u001B[49m\u001B[38;5;241;43m.\u001B[39;49m\u001B[43mloadmat\u001B[49m\u001B[43m(\u001B[49m\u001B[38;5;124;43m'\u001B[39;49m\u001B[38;5;124;43mdata.mat\u001B[39;49m\u001B[38;5;124;43m'\u001B[39;49m\u001B[43m)\u001B[49m\n\u001B[0;32m      2\u001B[0m data\n",
      "File \u001B[1;32mD:\\env\\DL\\lib\\site-packages\\scipy\\io\\matlab\\_mio.py:225\u001B[0m, in \u001B[0;36mloadmat\u001B[1;34m(file_name, mdict, appendmat, **kwargs)\u001B[0m\n\u001B[0;32m     88\u001B[0m \u001B[38;5;250m\u001B[39m\u001B[38;5;124;03m\"\"\"\u001B[39;00m\n\u001B[0;32m     89\u001B[0m \u001B[38;5;124;03mLoad MATLAB file.\u001B[39;00m\n\u001B[0;32m     90\u001B[0m \n\u001B[1;32m   (...)\u001B[0m\n\u001B[0;32m    222\u001B[0m \u001B[38;5;124;03m    3.14159265+3.14159265j])\u001B[39;00m\n\u001B[0;32m    223\u001B[0m \u001B[38;5;124;03m\"\"\"\u001B[39;00m\n\u001B[0;32m    224\u001B[0m variable_names \u001B[38;5;241m=\u001B[39m kwargs\u001B[38;5;241m.\u001B[39mpop(\u001B[38;5;124m'\u001B[39m\u001B[38;5;124mvariable_names\u001B[39m\u001B[38;5;124m'\u001B[39m, \u001B[38;5;28;01mNone\u001B[39;00m)\n\u001B[1;32m--> 225\u001B[0m \u001B[38;5;28;01mwith\u001B[39;00m _open_file_context(file_name, appendmat) \u001B[38;5;28;01mas\u001B[39;00m f:\n\u001B[0;32m    226\u001B[0m     MR, _ \u001B[38;5;241m=\u001B[39m mat_reader_factory(f, \u001B[38;5;241m*\u001B[39m\u001B[38;5;241m*\u001B[39mkwargs)\n\u001B[0;32m    227\u001B[0m     matfile_dict \u001B[38;5;241m=\u001B[39m MR\u001B[38;5;241m.\u001B[39mget_variables(variable_names)\n",
      "File \u001B[1;32mD:\\env\\DL\\lib\\contextlib.py:135\u001B[0m, in \u001B[0;36m_GeneratorContextManager.__enter__\u001B[1;34m(self)\u001B[0m\n\u001B[0;32m    133\u001B[0m \u001B[38;5;28;01mdel\u001B[39;00m \u001B[38;5;28mself\u001B[39m\u001B[38;5;241m.\u001B[39margs, \u001B[38;5;28mself\u001B[39m\u001B[38;5;241m.\u001B[39mkwds, \u001B[38;5;28mself\u001B[39m\u001B[38;5;241m.\u001B[39mfunc\n\u001B[0;32m    134\u001B[0m \u001B[38;5;28;01mtry\u001B[39;00m:\n\u001B[1;32m--> 135\u001B[0m     \u001B[38;5;28;01mreturn\u001B[39;00m \u001B[38;5;28;43mnext\u001B[39;49m\u001B[43m(\u001B[49m\u001B[38;5;28;43mself\u001B[39;49m\u001B[38;5;241;43m.\u001B[39;49m\u001B[43mgen\u001B[49m\u001B[43m)\u001B[49m\n\u001B[0;32m    136\u001B[0m \u001B[38;5;28;01mexcept\u001B[39;00m \u001B[38;5;167;01mStopIteration\u001B[39;00m:\n\u001B[0;32m    137\u001B[0m     \u001B[38;5;28;01mraise\u001B[39;00m \u001B[38;5;167;01mRuntimeError\u001B[39;00m(\u001B[38;5;124m\"\u001B[39m\u001B[38;5;124mgenerator didn\u001B[39m\u001B[38;5;124m'\u001B[39m\u001B[38;5;124mt yield\u001B[39m\u001B[38;5;124m\"\u001B[39m) \u001B[38;5;28;01mfrom\u001B[39;00m \u001B[38;5;28mNone\u001B[39m\n",
      "File \u001B[1;32mD:\\env\\DL\\lib\\site-packages\\scipy\\io\\matlab\\_mio.py:17\u001B[0m, in \u001B[0;36m_open_file_context\u001B[1;34m(file_like, appendmat, mode)\u001B[0m\n\u001B[0;32m     15\u001B[0m \u001B[38;5;129m@contextmanager\u001B[39m\n\u001B[0;32m     16\u001B[0m \u001B[38;5;28;01mdef\u001B[39;00m \u001B[38;5;21m_open_file_context\u001B[39m(file_like, appendmat, mode\u001B[38;5;241m=\u001B[39m\u001B[38;5;124m'\u001B[39m\u001B[38;5;124mrb\u001B[39m\u001B[38;5;124m'\u001B[39m):\n\u001B[1;32m---> 17\u001B[0m     f, opened \u001B[38;5;241m=\u001B[39m \u001B[43m_open_file\u001B[49m\u001B[43m(\u001B[49m\u001B[43mfile_like\u001B[49m\u001B[43m,\u001B[49m\u001B[43m \u001B[49m\u001B[43mappendmat\u001B[49m\u001B[43m,\u001B[49m\u001B[43m \u001B[49m\u001B[43mmode\u001B[49m\u001B[43m)\u001B[49m\n\u001B[0;32m     18\u001B[0m     \u001B[38;5;28;01mtry\u001B[39;00m:\n\u001B[0;32m     19\u001B[0m         \u001B[38;5;28;01myield\u001B[39;00m f\n",
      "File \u001B[1;32mD:\\env\\DL\\lib\\site-packages\\scipy\\io\\matlab\\_mio.py:45\u001B[0m, in \u001B[0;36m_open_file\u001B[1;34m(file_like, appendmat, mode)\u001B[0m\n\u001B[0;32m     43\u001B[0m     \u001B[38;5;28;01mif\u001B[39;00m appendmat \u001B[38;5;129;01mand\u001B[39;00m \u001B[38;5;129;01mnot\u001B[39;00m file_like\u001B[38;5;241m.\u001B[39mendswith(\u001B[38;5;124m'\u001B[39m\u001B[38;5;124m.mat\u001B[39m\u001B[38;5;124m'\u001B[39m):\n\u001B[0;32m     44\u001B[0m         file_like \u001B[38;5;241m+\u001B[39m\u001B[38;5;241m=\u001B[39m \u001B[38;5;124m'\u001B[39m\u001B[38;5;124m.mat\u001B[39m\u001B[38;5;124m'\u001B[39m\n\u001B[1;32m---> 45\u001B[0m     \u001B[38;5;28;01mreturn\u001B[39;00m \u001B[38;5;28;43mopen\u001B[39;49m\u001B[43m(\u001B[49m\u001B[43mfile_like\u001B[49m\u001B[43m,\u001B[49m\u001B[43m \u001B[49m\u001B[43mmode\u001B[49m\u001B[43m)\u001B[49m, \u001B[38;5;28;01mTrue\u001B[39;00m\n\u001B[0;32m     46\u001B[0m \u001B[38;5;28;01melse\u001B[39;00m:\n\u001B[0;32m     47\u001B[0m     \u001B[38;5;28;01mraise\u001B[39;00m \u001B[38;5;167;01mOSError\u001B[39;00m(\n\u001B[0;32m     48\u001B[0m         \u001B[38;5;124m'\u001B[39m\u001B[38;5;124mReader needs file name or open file-like object\u001B[39m\u001B[38;5;124m'\u001B[39m\n\u001B[0;32m     49\u001B[0m     ) \u001B[38;5;28;01mfrom\u001B[39;00m \u001B[38;5;21;01me\u001B[39;00m\n",
      "\u001B[1;31mFileNotFoundError\u001B[0m: [Errno 2] No such file or directory: 'data.mat'"
     ]
    }
   ],
   "source": [
    "data = scipy.io.loadmat('data.mat')\n",
    "data"
   ],
   "metadata": {
    "collapsed": false,
    "ExecuteTime": {
     "start_time": "2023-06-28T20:52:54.514421Z",
     "end_time": "2023-06-28T20:52:54.531422Z"
    }
   }
  },
  {
   "cell_type": "code",
   "execution_count": 99,
   "outputs": [],
   "source": [
    "data04=scipy.io.loadmat('data_4.mat')"
   ],
   "metadata": {
    "collapsed": false,
    "ExecuteTime": {
     "start_time": "2023-06-28T21:02:15.699390Z",
     "end_time": "2023-06-28T21:02:15.709388Z"
    }
   }
  },
  {
   "cell_type": "code",
   "execution_count": 100,
   "outputs": [
    {
     "data": {
      "text/plain": "{'__header__': b'MATLAB 5.0 MAT-file Platform: nt, Created on: Wed Jun 28 21:02:07 2023',\n '__version__': '1.0',\n '__globals__': [],\n 'Network': <1582x1582 sparse matrix of type '<class 'numpy.float64'>'\n \twith 6308 stored elements in Compressed Sparse Column format>,\n 'Attributes': <1582x14 sparse matrix of type '<class 'numpy.float64'>'\n \twith 10986 stored elements in Compressed Sparse Column format>,\n 'Label': array([[0, 0, 0, ..., 0, 0, 0]], dtype=int64),\n 'Class': array([[0.],\n        [0.],\n        [0.],\n        ...,\n        [0.],\n        [0.],\n        [0.]])}"
     },
     "execution_count": 100,
     "metadata": {},
     "output_type": "execute_result"
    }
   ],
   "source": [
    "data04"
   ],
   "metadata": {
    "collapsed": false,
    "ExecuteTime": {
     "start_time": "2023-06-28T21:02:16.257971Z",
     "end_time": "2023-06-28T21:02:16.272969Z"
    }
   }
  },
  {
   "cell_type": "code",
   "execution_count": 1,
   "outputs": [
    {
     "ename": "IndentationError",
     "evalue": "expected an indented block after 'if' statement on line 8 (136765523.py, line 9)",
     "output_type": "error",
     "traceback": [
      "\u001B[1;36m  Cell \u001B[1;32mIn[1], line 9\u001B[1;36m\u001B[0m\n\u001B[1;33m    \u001B[0m\n\u001B[1;37m    ^\u001B[0m\n\u001B[1;31mIndentationError\u001B[0m\u001B[1;31m:\u001B[0m expected an indented block after 'if' statement on line 8\n"
     ]
    }
   ],
   "source": [
    "def sample_subgraphs(adj_matrix,feature_matrix,num_graphs,subgraph_size):\n",
    "    num_nodes=adj_matrix.shape[0]\n",
    "    sampled_num_nodes=[]\n",
    "\n",
    "    for i in range(num_graphs):\n",
    "        while True:\n",
    "            start_node = np.random.randint(num_nodes)\n",
    "            if start_node not in sampled_num_nodes:\n",
    "\n"
   ],
   "metadata": {
    "collapsed": false
   }
  },
  {
   "cell_type": "code",
   "execution_count": 45,
   "outputs": [],
   "source": [
    "import numpy as np\n",
    "data=np.load('data.npz')"
   ],
   "metadata": {
    "collapsed": false,
    "ExecuteTime": {
     "start_time": "2023-06-29T16:26:26.790267Z",
     "end_time": "2023-06-29T16:26:26.802267Z"
    }
   }
  },
  {
   "cell_type": "code",
   "execution_count": 46,
   "outputs": [
    {
     "data": {
      "text/plain": "array([ True,  True,  True, ..., False, False, False])"
     },
     "execution_count": 46,
     "metadata": {},
     "output_type": "execute_result"
    }
   ],
   "source": [
    "data['train_mask']"
   ],
   "metadata": {
    "collapsed": false,
    "ExecuteTime": {
     "start_time": "2023-06-29T16:26:27.158467Z",
     "end_time": "2023-06-29T16:26:27.164465Z"
    }
   }
  },
  {
   "cell_type": "code",
   "execution_count": 51,
   "outputs": [
    {
     "data": {
      "text/plain": "820"
     },
     "execution_count": 51,
     "metadata": {},
     "output_type": "execute_result"
    }
   ],
   "source": [
    "np.count_nonzero(data['label'][data['vaild_mask']])"
   ],
   "metadata": {
    "collapsed": false,
    "ExecuteTime": {
     "start_time": "2023-06-29T16:28:06.133381Z",
     "end_time": "2023-06-29T16:28:06.143345Z"
    }
   }
  },
  {
   "cell_type": "code",
   "execution_count": null,
   "outputs": [],
   "source": [],
   "metadata": {
    "collapsed": false
   }
  }
 ],
 "metadata": {
  "kernelspec": {
   "display_name": "Python 3",
   "language": "python",
   "name": "python3"
  },
  "language_info": {
   "codemirror_mode": {
    "name": "ipython",
    "version": 2
   },
   "file_extension": ".py",
   "mimetype": "text/x-python",
   "name": "python",
   "nbconvert_exporter": "python",
   "pygments_lexer": "ipython2",
   "version": "2.7.6"
  }
 },
 "nbformat": 4,
 "nbformat_minor": 0
}
