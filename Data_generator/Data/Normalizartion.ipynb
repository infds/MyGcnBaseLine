{
 "cells": [
  {
   "cell_type": "code",
   "execution_count": 38,
   "metadata": {
    "collapsed": true,
    "ExecuteTime": {
     "start_time": "2023-06-29T13:59:29.650014Z",
     "end_time": "2023-06-29T13:59:29.661786Z"
    }
   },
   "outputs": [],
   "source": [
    "import pandas as pd\n",
    "import numpy as np\n",
    "from sklearn.preprocessing import MinMaxScaler"
   ]
  },
  {
   "cell_type": "code",
   "execution_count": 39,
   "outputs": [],
   "source": [
    "data=pd.read_csv('water_data.csv')"
   ],
   "metadata": {
    "collapsed": false,
    "ExecuteTime": {
     "start_time": "2023-06-29T13:59:30.478276Z",
     "end_time": "2023-06-29T13:59:30.493277Z"
    }
   }
  },
  {
   "cell_type": "code",
   "execution_count": 40,
   "outputs": [
    {
     "data": {
      "text/plain": "       Unnamed: 0  pipe-dia  pipe-mat  pipe-bd  先前失效  pipe-pre  pipe-len  \\\n0               0       200         2      1.4     0      0.25     5.477   \n1               1       200         2      1.3     0      0.32     2.773   \n2               2       200         2      0.4     0      0.19    11.464   \n3               3       200         2      1.2     0      0.24    10.287   \n4               4       200         2      0.8     0      0.17    13.247   \n...           ...       ...       ...      ...   ...       ...       ...   \n11484       11484       100         0      0.8     0      0.25    78.826   \n11485       11485       300         0      1.3     0      0.23     8.597   \n11486       11486       300         0      1.4     0      0.31    10.030   \n11487       11487       100         0      1.4     0      0.29    27.322   \n11488       11488       100         0      1.4     1      0.23    64.647   \n\n       pipe-age  a7  \n0             6   0  \n1            22   0  \n2            15   0  \n3            16   0  \n4            16   0  \n...         ...  ..  \n11484        25   0  \n11485        22   0  \n11486        29   0  \n11487        18   0  \n11488        22   0  \n\n[11489 rows x 9 columns]",
      "text/html": "<div>\n<style scoped>\n    .dataframe tbody tr th:only-of-type {\n        vertical-align: middle;\n    }\n\n    .dataframe tbody tr th {\n        vertical-align: top;\n    }\n\n    .dataframe thead th {\n        text-align: right;\n    }\n</style>\n<table border=\"1\" class=\"dataframe\">\n  <thead>\n    <tr style=\"text-align: right;\">\n      <th></th>\n      <th>Unnamed: 0</th>\n      <th>pipe-dia</th>\n      <th>pipe-mat</th>\n      <th>pipe-bd</th>\n      <th>先前失效</th>\n      <th>pipe-pre</th>\n      <th>pipe-len</th>\n      <th>pipe-age</th>\n      <th>a7</th>\n    </tr>\n  </thead>\n  <tbody>\n    <tr>\n      <th>0</th>\n      <td>0</td>\n      <td>200</td>\n      <td>2</td>\n      <td>1.4</td>\n      <td>0</td>\n      <td>0.25</td>\n      <td>5.477</td>\n      <td>6</td>\n      <td>0</td>\n    </tr>\n    <tr>\n      <th>1</th>\n      <td>1</td>\n      <td>200</td>\n      <td>2</td>\n      <td>1.3</td>\n      <td>0</td>\n      <td>0.32</td>\n      <td>2.773</td>\n      <td>22</td>\n      <td>0</td>\n    </tr>\n    <tr>\n      <th>2</th>\n      <td>2</td>\n      <td>200</td>\n      <td>2</td>\n      <td>0.4</td>\n      <td>0</td>\n      <td>0.19</td>\n      <td>11.464</td>\n      <td>15</td>\n      <td>0</td>\n    </tr>\n    <tr>\n      <th>3</th>\n      <td>3</td>\n      <td>200</td>\n      <td>2</td>\n      <td>1.2</td>\n      <td>0</td>\n      <td>0.24</td>\n      <td>10.287</td>\n      <td>16</td>\n      <td>0</td>\n    </tr>\n    <tr>\n      <th>4</th>\n      <td>4</td>\n      <td>200</td>\n      <td>2</td>\n      <td>0.8</td>\n      <td>0</td>\n      <td>0.17</td>\n      <td>13.247</td>\n      <td>16</td>\n      <td>0</td>\n    </tr>\n    <tr>\n      <th>...</th>\n      <td>...</td>\n      <td>...</td>\n      <td>...</td>\n      <td>...</td>\n      <td>...</td>\n      <td>...</td>\n      <td>...</td>\n      <td>...</td>\n      <td>...</td>\n    </tr>\n    <tr>\n      <th>11484</th>\n      <td>11484</td>\n      <td>100</td>\n      <td>0</td>\n      <td>0.8</td>\n      <td>0</td>\n      <td>0.25</td>\n      <td>78.826</td>\n      <td>25</td>\n      <td>0</td>\n    </tr>\n    <tr>\n      <th>11485</th>\n      <td>11485</td>\n      <td>300</td>\n      <td>0</td>\n      <td>1.3</td>\n      <td>0</td>\n      <td>0.23</td>\n      <td>8.597</td>\n      <td>22</td>\n      <td>0</td>\n    </tr>\n    <tr>\n      <th>11486</th>\n      <td>11486</td>\n      <td>300</td>\n      <td>0</td>\n      <td>1.4</td>\n      <td>0</td>\n      <td>0.31</td>\n      <td>10.030</td>\n      <td>29</td>\n      <td>0</td>\n    </tr>\n    <tr>\n      <th>11487</th>\n      <td>11487</td>\n      <td>100</td>\n      <td>0</td>\n      <td>1.4</td>\n      <td>0</td>\n      <td>0.29</td>\n      <td>27.322</td>\n      <td>18</td>\n      <td>0</td>\n    </tr>\n    <tr>\n      <th>11488</th>\n      <td>11488</td>\n      <td>100</td>\n      <td>0</td>\n      <td>1.4</td>\n      <td>1</td>\n      <td>0.23</td>\n      <td>64.647</td>\n      <td>22</td>\n      <td>0</td>\n    </tr>\n  </tbody>\n</table>\n<p>11489 rows × 9 columns</p>\n</div>"
     },
     "execution_count": 40,
     "metadata": {},
     "output_type": "execute_result"
    }
   ],
   "source": [
    "data"
   ],
   "metadata": {
    "collapsed": false,
    "ExecuteTime": {
     "start_time": "2023-06-29T13:59:30.918675Z",
     "end_time": "2023-06-29T13:59:30.933674Z"
    }
   }
  },
  {
   "cell_type": "code",
   "execution_count": 41,
   "outputs": [],
   "source": [
    "scaler=MinMaxScaler()"
   ],
   "metadata": {
    "collapsed": false,
    "ExecuteTime": {
     "start_time": "2023-06-29T13:59:31.792471Z",
     "end_time": "2023-06-29T13:59:31.800977Z"
    }
   }
  },
  {
   "cell_type": "code",
   "execution_count": 42,
   "outputs": [],
   "source": [
    "pip_dia_data=data['pipe-dia'].values.reshape(-1,1)"
   ],
   "metadata": {
    "collapsed": false,
    "ExecuteTime": {
     "start_time": "2023-06-29T13:59:32.263110Z",
     "end_time": "2023-06-29T13:59:32.281866Z"
    }
   }
  },
  {
   "cell_type": "code",
   "execution_count": 43,
   "outputs": [],
   "source": [
    "normaliezed_pip_dia=scaler.fit_transform(pip_dia_data)"
   ],
   "metadata": {
    "collapsed": false,
    "ExecuteTime": {
     "start_time": "2023-06-29T13:59:32.959344Z",
     "end_time": "2023-06-29T13:59:32.972443Z"
    }
   }
  },
  {
   "cell_type": "code",
   "execution_count": 44,
   "outputs": [],
   "source": [
    "data['pipe-dia']=normaliezed_pip_dia"
   ],
   "metadata": {
    "collapsed": false,
    "ExecuteTime": {
     "start_time": "2023-06-29T13:59:33.715623Z",
     "end_time": "2023-06-29T13:59:33.727620Z"
    }
   }
  },
  {
   "cell_type": "code",
   "execution_count": 45,
   "outputs": [],
   "source": [
    "pipe_bd_data=data['pipe-bd'].values.reshape(-1,1)"
   ],
   "metadata": {
    "collapsed": false,
    "ExecuteTime": {
     "start_time": "2023-06-29T13:59:34.053889Z",
     "end_time": "2023-06-29T13:59:34.059887Z"
    }
   }
  },
  {
   "cell_type": "code",
   "execution_count": 46,
   "outputs": [],
   "source": [
    "normaliezed_pip_bd=scaler.fit_transform(pipe_bd_data)"
   ],
   "metadata": {
    "collapsed": false,
    "ExecuteTime": {
     "start_time": "2023-06-29T13:59:34.465429Z",
     "end_time": "2023-06-29T13:59:34.481430Z"
    }
   }
  },
  {
   "cell_type": "code",
   "execution_count": 47,
   "outputs": [],
   "source": [
    "data['pipe-bd']=normaliezed_pip_bd"
   ],
   "metadata": {
    "collapsed": false,
    "ExecuteTime": {
     "start_time": "2023-06-29T13:59:34.868786Z",
     "end_time": "2023-06-29T13:59:34.875788Z"
    }
   }
  },
  {
   "cell_type": "code",
   "execution_count": 48,
   "outputs": [
    {
     "data": {
      "text/plain": "0        0.6875\n1        0.6250\n2        0.0625\n3        0.5625\n4        0.3125\n          ...  \n11484    0.3125\n11485    0.6250\n11486    0.6875\n11487    0.6875\n11488    0.6875\nName: pipe-bd, Length: 11489, dtype: float64"
     },
     "execution_count": 48,
     "metadata": {},
     "output_type": "execute_result"
    }
   ],
   "source": [
    "data['pipe-bd']"
   ],
   "metadata": {
    "collapsed": false,
    "ExecuteTime": {
     "start_time": "2023-06-29T13:59:35.282493Z",
     "end_time": "2023-06-29T13:59:35.292493Z"
    }
   }
  },
  {
   "cell_type": "code",
   "execution_count": 49,
   "outputs": [
    {
     "data": {
      "text/plain": "0        0.416667\n1        0.708333\n2        0.166667\n3        0.375000\n4        0.083333\n           ...   \n11484    0.416667\n11485    0.333333\n11486    0.666667\n11487    0.583333\n11488    0.333333\nName: pipe-pre, Length: 11489, dtype: float64"
     },
     "execution_count": 49,
     "metadata": {},
     "output_type": "execute_result"
    }
   ],
   "source": [
    "pipe_pre_data=data['pipe-pre'].values.reshape(-1,1)\n",
    "normaliezed_pip_pre=scaler.fit_transform(pipe_pre_data)\n",
    "data['pipe-pre']=normaliezed_pip_pre\n",
    "data['pipe-pre']"
   ],
   "metadata": {
    "collapsed": false,
    "ExecuteTime": {
     "start_time": "2023-06-29T13:59:36.290322Z",
     "end_time": "2023-06-29T13:59:36.298891Z"
    }
   }
  },
  {
   "cell_type": "code",
   "execution_count": 50,
   "outputs": [
    {
     "data": {
      "text/plain": "       Unnamed: 0  pipe-dia  pipe-mat  pipe-bd  先前失效  pipe-pre  pipe-len  \\\n0               0  0.285714         2   0.6875     0  0.416667     5.477   \n1               1  0.285714         2   0.6250     0  0.708333     2.773   \n2               2  0.285714         2   0.0625     0  0.166667    11.464   \n3               3  0.285714         2   0.5625     0  0.375000    10.287   \n4               4  0.285714         2   0.3125     0  0.083333    13.247   \n...           ...       ...       ...      ...   ...       ...       ...   \n11484       11484  0.107143         0   0.3125     0  0.416667    78.826   \n11485       11485  0.464286         0   0.6250     0  0.333333     8.597   \n11486       11486  0.464286         0   0.6875     0  0.666667    10.030   \n11487       11487  0.107143         0   0.6875     0  0.583333    27.322   \n11488       11488  0.107143         0   0.6875     1  0.333333    64.647   \n\n       pipe-age  a7  \n0             6   0  \n1            22   0  \n2            15   0  \n3            16   0  \n4            16   0  \n...         ...  ..  \n11484        25   0  \n11485        22   0  \n11486        29   0  \n11487        18   0  \n11488        22   0  \n\n[11489 rows x 9 columns]",
      "text/html": "<div>\n<style scoped>\n    .dataframe tbody tr th:only-of-type {\n        vertical-align: middle;\n    }\n\n    .dataframe tbody tr th {\n        vertical-align: top;\n    }\n\n    .dataframe thead th {\n        text-align: right;\n    }\n</style>\n<table border=\"1\" class=\"dataframe\">\n  <thead>\n    <tr style=\"text-align: right;\">\n      <th></th>\n      <th>Unnamed: 0</th>\n      <th>pipe-dia</th>\n      <th>pipe-mat</th>\n      <th>pipe-bd</th>\n      <th>先前失效</th>\n      <th>pipe-pre</th>\n      <th>pipe-len</th>\n      <th>pipe-age</th>\n      <th>a7</th>\n    </tr>\n  </thead>\n  <tbody>\n    <tr>\n      <th>0</th>\n      <td>0</td>\n      <td>0.285714</td>\n      <td>2</td>\n      <td>0.6875</td>\n      <td>0</td>\n      <td>0.416667</td>\n      <td>5.477</td>\n      <td>6</td>\n      <td>0</td>\n    </tr>\n    <tr>\n      <th>1</th>\n      <td>1</td>\n      <td>0.285714</td>\n      <td>2</td>\n      <td>0.6250</td>\n      <td>0</td>\n      <td>0.708333</td>\n      <td>2.773</td>\n      <td>22</td>\n      <td>0</td>\n    </tr>\n    <tr>\n      <th>2</th>\n      <td>2</td>\n      <td>0.285714</td>\n      <td>2</td>\n      <td>0.0625</td>\n      <td>0</td>\n      <td>0.166667</td>\n      <td>11.464</td>\n      <td>15</td>\n      <td>0</td>\n    </tr>\n    <tr>\n      <th>3</th>\n      <td>3</td>\n      <td>0.285714</td>\n      <td>2</td>\n      <td>0.5625</td>\n      <td>0</td>\n      <td>0.375000</td>\n      <td>10.287</td>\n      <td>16</td>\n      <td>0</td>\n    </tr>\n    <tr>\n      <th>4</th>\n      <td>4</td>\n      <td>0.285714</td>\n      <td>2</td>\n      <td>0.3125</td>\n      <td>0</td>\n      <td>0.083333</td>\n      <td>13.247</td>\n      <td>16</td>\n      <td>0</td>\n    </tr>\n    <tr>\n      <th>...</th>\n      <td>...</td>\n      <td>...</td>\n      <td>...</td>\n      <td>...</td>\n      <td>...</td>\n      <td>...</td>\n      <td>...</td>\n      <td>...</td>\n      <td>...</td>\n    </tr>\n    <tr>\n      <th>11484</th>\n      <td>11484</td>\n      <td>0.107143</td>\n      <td>0</td>\n      <td>0.3125</td>\n      <td>0</td>\n      <td>0.416667</td>\n      <td>78.826</td>\n      <td>25</td>\n      <td>0</td>\n    </tr>\n    <tr>\n      <th>11485</th>\n      <td>11485</td>\n      <td>0.464286</td>\n      <td>0</td>\n      <td>0.6250</td>\n      <td>0</td>\n      <td>0.333333</td>\n      <td>8.597</td>\n      <td>22</td>\n      <td>0</td>\n    </tr>\n    <tr>\n      <th>11486</th>\n      <td>11486</td>\n      <td>0.464286</td>\n      <td>0</td>\n      <td>0.6875</td>\n      <td>0</td>\n      <td>0.666667</td>\n      <td>10.030</td>\n      <td>29</td>\n      <td>0</td>\n    </tr>\n    <tr>\n      <th>11487</th>\n      <td>11487</td>\n      <td>0.107143</td>\n      <td>0</td>\n      <td>0.6875</td>\n      <td>0</td>\n      <td>0.583333</td>\n      <td>27.322</td>\n      <td>18</td>\n      <td>0</td>\n    </tr>\n    <tr>\n      <th>11488</th>\n      <td>11488</td>\n      <td>0.107143</td>\n      <td>0</td>\n      <td>0.6875</td>\n      <td>1</td>\n      <td>0.333333</td>\n      <td>64.647</td>\n      <td>22</td>\n      <td>0</td>\n    </tr>\n  </tbody>\n</table>\n<p>11489 rows × 9 columns</p>\n</div>"
     },
     "execution_count": 50,
     "metadata": {},
     "output_type": "execute_result"
    }
   ],
   "source": [
    "data"
   ],
   "metadata": {
    "collapsed": false,
    "ExecuteTime": {
     "start_time": "2023-06-29T13:59:38.278480Z",
     "end_time": "2023-06-29T13:59:38.284989Z"
    }
   }
  },
  {
   "cell_type": "code",
   "execution_count": 51,
   "outputs": [
    {
     "data": {
      "text/plain": "0        0.028876\n1        0.014238\n2        0.061288\n3        0.054916\n4        0.070940\n           ...   \n11484    0.425961\n11485    0.045767\n11486    0.053525\n11487    0.147137\n11488    0.349201\nName: pipe-len, Length: 11489, dtype: float64"
     },
     "execution_count": 51,
     "metadata": {},
     "output_type": "execute_result"
    }
   ],
   "source": [
    "pipe_len_data=data['pipe-len'].values.reshape(-1,1)\n",
    "normaliezed_pip_len=scaler.fit_transform(pipe_len_data)\n",
    "data['pipe-len']=normaliezed_pip_len\n",
    "data['pipe-len']"
   ],
   "metadata": {
    "collapsed": false,
    "ExecuteTime": {
     "start_time": "2023-06-29T13:59:40.406345Z",
     "end_time": "2023-06-29T13:59:40.415535Z"
    }
   }
  },
  {
   "cell_type": "code",
   "execution_count": 52,
   "outputs": [
    {
     "data": {
      "text/plain": "0        0.000000\n1        0.296296\n2        0.166667\n3        0.185185\n4        0.185185\n           ...   \n11484    0.351852\n11485    0.296296\n11486    0.425926\n11487    0.222222\n11488    0.296296\nName: pipe-age, Length: 11489, dtype: float64"
     },
     "execution_count": 52,
     "metadata": {},
     "output_type": "execute_result"
    }
   ],
   "source": [
    "pipe_age_data=data['pipe-age'].values.reshape(-1,1)\n",
    "normaliezed_pip_age=scaler.fit_transform(pipe_age_data)\n",
    "data['pipe-age']=normaliezed_pip_age\n",
    "data['pipe-age']"
   ],
   "metadata": {
    "collapsed": false,
    "ExecuteTime": {
     "start_time": "2023-06-29T13:59:41.020064Z",
     "end_time": "2023-06-29T13:59:41.031602Z"
    }
   }
  },
  {
   "cell_type": "code",
   "execution_count": 53,
   "outputs": [
    {
     "data": {
      "text/plain": "       Unnamed: 0  pipe-dia  pipe-mat  pipe-bd  先前失效  pipe-pre  pipe-len  \\\n0               0  0.285714         2   0.6875     0  0.416667  0.028876   \n1               1  0.285714         2   0.6250     0  0.708333  0.014238   \n2               2  0.285714         2   0.0625     0  0.166667  0.061288   \n3               3  0.285714         2   0.5625     0  0.375000  0.054916   \n4               4  0.285714         2   0.3125     0  0.083333  0.070940   \n...           ...       ...       ...      ...   ...       ...       ...   \n11484       11484  0.107143         0   0.3125     0  0.416667  0.425961   \n11485       11485  0.464286         0   0.6250     0  0.333333  0.045767   \n11486       11486  0.464286         0   0.6875     0  0.666667  0.053525   \n11487       11487  0.107143         0   0.6875     0  0.583333  0.147137   \n11488       11488  0.107143         0   0.6875     1  0.333333  0.349201   \n\n       pipe-age  a7  \n0      0.000000   0  \n1      0.296296   0  \n2      0.166667   0  \n3      0.185185   0  \n4      0.185185   0  \n...         ...  ..  \n11484  0.351852   0  \n11485  0.296296   0  \n11486  0.425926   0  \n11487  0.222222   0  \n11488  0.296296   0  \n\n[11489 rows x 9 columns]",
      "text/html": "<div>\n<style scoped>\n    .dataframe tbody tr th:only-of-type {\n        vertical-align: middle;\n    }\n\n    .dataframe tbody tr th {\n        vertical-align: top;\n    }\n\n    .dataframe thead th {\n        text-align: right;\n    }\n</style>\n<table border=\"1\" class=\"dataframe\">\n  <thead>\n    <tr style=\"text-align: right;\">\n      <th></th>\n      <th>Unnamed: 0</th>\n      <th>pipe-dia</th>\n      <th>pipe-mat</th>\n      <th>pipe-bd</th>\n      <th>先前失效</th>\n      <th>pipe-pre</th>\n      <th>pipe-len</th>\n      <th>pipe-age</th>\n      <th>a7</th>\n    </tr>\n  </thead>\n  <tbody>\n    <tr>\n      <th>0</th>\n      <td>0</td>\n      <td>0.285714</td>\n      <td>2</td>\n      <td>0.6875</td>\n      <td>0</td>\n      <td>0.416667</td>\n      <td>0.028876</td>\n      <td>0.000000</td>\n      <td>0</td>\n    </tr>\n    <tr>\n      <th>1</th>\n      <td>1</td>\n      <td>0.285714</td>\n      <td>2</td>\n      <td>0.6250</td>\n      <td>0</td>\n      <td>0.708333</td>\n      <td>0.014238</td>\n      <td>0.296296</td>\n      <td>0</td>\n    </tr>\n    <tr>\n      <th>2</th>\n      <td>2</td>\n      <td>0.285714</td>\n      <td>2</td>\n      <td>0.0625</td>\n      <td>0</td>\n      <td>0.166667</td>\n      <td>0.061288</td>\n      <td>0.166667</td>\n      <td>0</td>\n    </tr>\n    <tr>\n      <th>3</th>\n      <td>3</td>\n      <td>0.285714</td>\n      <td>2</td>\n      <td>0.5625</td>\n      <td>0</td>\n      <td>0.375000</td>\n      <td>0.054916</td>\n      <td>0.185185</td>\n      <td>0</td>\n    </tr>\n    <tr>\n      <th>4</th>\n      <td>4</td>\n      <td>0.285714</td>\n      <td>2</td>\n      <td>0.3125</td>\n      <td>0</td>\n      <td>0.083333</td>\n      <td>0.070940</td>\n      <td>0.185185</td>\n      <td>0</td>\n    </tr>\n    <tr>\n      <th>...</th>\n      <td>...</td>\n      <td>...</td>\n      <td>...</td>\n      <td>...</td>\n      <td>...</td>\n      <td>...</td>\n      <td>...</td>\n      <td>...</td>\n      <td>...</td>\n    </tr>\n    <tr>\n      <th>11484</th>\n      <td>11484</td>\n      <td>0.107143</td>\n      <td>0</td>\n      <td>0.3125</td>\n      <td>0</td>\n      <td>0.416667</td>\n      <td>0.425961</td>\n      <td>0.351852</td>\n      <td>0</td>\n    </tr>\n    <tr>\n      <th>11485</th>\n      <td>11485</td>\n      <td>0.464286</td>\n      <td>0</td>\n      <td>0.6250</td>\n      <td>0</td>\n      <td>0.333333</td>\n      <td>0.045767</td>\n      <td>0.296296</td>\n      <td>0</td>\n    </tr>\n    <tr>\n      <th>11486</th>\n      <td>11486</td>\n      <td>0.464286</td>\n      <td>0</td>\n      <td>0.6875</td>\n      <td>0</td>\n      <td>0.666667</td>\n      <td>0.053525</td>\n      <td>0.425926</td>\n      <td>0</td>\n    </tr>\n    <tr>\n      <th>11487</th>\n      <td>11487</td>\n      <td>0.107143</td>\n      <td>0</td>\n      <td>0.6875</td>\n      <td>0</td>\n      <td>0.583333</td>\n      <td>0.147137</td>\n      <td>0.222222</td>\n      <td>0</td>\n    </tr>\n    <tr>\n      <th>11488</th>\n      <td>11488</td>\n      <td>0.107143</td>\n      <td>0</td>\n      <td>0.6875</td>\n      <td>1</td>\n      <td>0.333333</td>\n      <td>0.349201</td>\n      <td>0.296296</td>\n      <td>0</td>\n    </tr>\n  </tbody>\n</table>\n<p>11489 rows × 9 columns</p>\n</div>"
     },
     "execution_count": 53,
     "metadata": {},
     "output_type": "execute_result"
    }
   ],
   "source": [
    "data"
   ],
   "metadata": {
    "collapsed": false,
    "ExecuteTime": {
     "start_time": "2023-06-29T13:59:41.469876Z",
     "end_time": "2023-06-29T13:59:41.482389Z"
    }
   }
  },
  {
   "cell_type": "code",
   "execution_count": 54,
   "outputs": [],
   "source": [
    "data.to_csv('data.csv',index=False)"
   ],
   "metadata": {
    "collapsed": false,
    "ExecuteTime": {
     "start_time": "2023-06-29T13:59:42.970701Z",
     "end_time": "2023-06-29T13:59:43.018700Z"
    }
   }
  },
  {
   "cell_type": "code",
   "execution_count": 55,
   "outputs": [
    {
     "data": {
      "text/plain": "       Unnamed: 0  pipe-dia  pipe-mat  pipe-bd  先前失效  pipe-pre  pipe-len  \\\n0               0  0.285714         2   0.6875     0  0.416667  0.028876   \n1               1  0.285714         2   0.6250     0  0.708333  0.014238   \n2               2  0.285714         2   0.0625     0  0.166667  0.061288   \n3               3  0.285714         2   0.5625     0  0.375000  0.054916   \n4               4  0.285714         2   0.3125     0  0.083333  0.070940   \n...           ...       ...       ...      ...   ...       ...       ...   \n11484       11484  0.107143         0   0.3125     0  0.416667  0.425961   \n11485       11485  0.464286         0   0.6250     0  0.333333  0.045767   \n11486       11486  0.464286         0   0.6875     0  0.666667  0.053525   \n11487       11487  0.107143         0   0.6875     0  0.583333  0.147137   \n11488       11488  0.107143         0   0.6875     1  0.333333  0.349201   \n\n       pipe-age  a7  \n0      0.000000   0  \n1      0.296296   0  \n2      0.166667   0  \n3      0.185185   0  \n4      0.185185   0  \n...         ...  ..  \n11484  0.351852   0  \n11485  0.296296   0  \n11486  0.425926   0  \n11487  0.222222   0  \n11488  0.296296   0  \n\n[11489 rows x 9 columns]",
      "text/html": "<div>\n<style scoped>\n    .dataframe tbody tr th:only-of-type {\n        vertical-align: middle;\n    }\n\n    .dataframe tbody tr th {\n        vertical-align: top;\n    }\n\n    .dataframe thead th {\n        text-align: right;\n    }\n</style>\n<table border=\"1\" class=\"dataframe\">\n  <thead>\n    <tr style=\"text-align: right;\">\n      <th></th>\n      <th>Unnamed: 0</th>\n      <th>pipe-dia</th>\n      <th>pipe-mat</th>\n      <th>pipe-bd</th>\n      <th>先前失效</th>\n      <th>pipe-pre</th>\n      <th>pipe-len</th>\n      <th>pipe-age</th>\n      <th>a7</th>\n    </tr>\n  </thead>\n  <tbody>\n    <tr>\n      <th>0</th>\n      <td>0</td>\n      <td>0.285714</td>\n      <td>2</td>\n      <td>0.6875</td>\n      <td>0</td>\n      <td>0.416667</td>\n      <td>0.028876</td>\n      <td>0.000000</td>\n      <td>0</td>\n    </tr>\n    <tr>\n      <th>1</th>\n      <td>1</td>\n      <td>0.285714</td>\n      <td>2</td>\n      <td>0.6250</td>\n      <td>0</td>\n      <td>0.708333</td>\n      <td>0.014238</td>\n      <td>0.296296</td>\n      <td>0</td>\n    </tr>\n    <tr>\n      <th>2</th>\n      <td>2</td>\n      <td>0.285714</td>\n      <td>2</td>\n      <td>0.0625</td>\n      <td>0</td>\n      <td>0.166667</td>\n      <td>0.061288</td>\n      <td>0.166667</td>\n      <td>0</td>\n    </tr>\n    <tr>\n      <th>3</th>\n      <td>3</td>\n      <td>0.285714</td>\n      <td>2</td>\n      <td>0.5625</td>\n      <td>0</td>\n      <td>0.375000</td>\n      <td>0.054916</td>\n      <td>0.185185</td>\n      <td>0</td>\n    </tr>\n    <tr>\n      <th>4</th>\n      <td>4</td>\n      <td>0.285714</td>\n      <td>2</td>\n      <td>0.3125</td>\n      <td>0</td>\n      <td>0.083333</td>\n      <td>0.070940</td>\n      <td>0.185185</td>\n      <td>0</td>\n    </tr>\n    <tr>\n      <th>...</th>\n      <td>...</td>\n      <td>...</td>\n      <td>...</td>\n      <td>...</td>\n      <td>...</td>\n      <td>...</td>\n      <td>...</td>\n      <td>...</td>\n      <td>...</td>\n    </tr>\n    <tr>\n      <th>11484</th>\n      <td>11484</td>\n      <td>0.107143</td>\n      <td>0</td>\n      <td>0.3125</td>\n      <td>0</td>\n      <td>0.416667</td>\n      <td>0.425961</td>\n      <td>0.351852</td>\n      <td>0</td>\n    </tr>\n    <tr>\n      <th>11485</th>\n      <td>11485</td>\n      <td>0.464286</td>\n      <td>0</td>\n      <td>0.6250</td>\n      <td>0</td>\n      <td>0.333333</td>\n      <td>0.045767</td>\n      <td>0.296296</td>\n      <td>0</td>\n    </tr>\n    <tr>\n      <th>11486</th>\n      <td>11486</td>\n      <td>0.464286</td>\n      <td>0</td>\n      <td>0.6875</td>\n      <td>0</td>\n      <td>0.666667</td>\n      <td>0.053525</td>\n      <td>0.425926</td>\n      <td>0</td>\n    </tr>\n    <tr>\n      <th>11487</th>\n      <td>11487</td>\n      <td>0.107143</td>\n      <td>0</td>\n      <td>0.6875</td>\n      <td>0</td>\n      <td>0.583333</td>\n      <td>0.147137</td>\n      <td>0.222222</td>\n      <td>0</td>\n    </tr>\n    <tr>\n      <th>11488</th>\n      <td>11488</td>\n      <td>0.107143</td>\n      <td>0</td>\n      <td>0.6875</td>\n      <td>1</td>\n      <td>0.333333</td>\n      <td>0.349201</td>\n      <td>0.296296</td>\n      <td>0</td>\n    </tr>\n  </tbody>\n</table>\n<p>11489 rows × 9 columns</p>\n</div>"
     },
     "execution_count": 55,
     "metadata": {},
     "output_type": "execute_result"
    }
   ],
   "source": [
    "data"
   ],
   "metadata": {
    "collapsed": false,
    "ExecuteTime": {
     "start_time": "2023-06-29T13:59:43.954807Z",
     "end_time": "2023-06-29T13:59:43.967807Z"
    }
   }
  },
  {
   "cell_type": "code",
   "execution_count": 19,
   "outputs": [],
   "source": [
    "data=data.sample(frac=1,random_state=42)\n"
   ],
   "metadata": {
    "collapsed": false,
    "ExecuteTime": {
     "start_time": "2023-06-29T13:59:08.779144Z",
     "end_time": "2023-06-29T13:59:08.833144Z"
    }
   }
  },
  {
   "cell_type": "code",
   "execution_count": 20,
   "outputs": [],
   "source": [
    "data1=data[:3000]"
   ],
   "metadata": {
    "collapsed": false,
    "ExecuteTime": {
     "start_time": "2023-06-29T13:59:08.793145Z",
     "end_time": "2023-06-29T13:59:08.842144Z"
    }
   }
  },
  {
   "cell_type": "code",
   "execution_count": 21,
   "outputs": [
    {
     "data": {
      "text/plain": "       Unnamed: 0  pipe-dia  pipe-mat  pipe-bd  先前失效  pipe-pre  pipe-len  \\\n1516         1516  0.910714         0  0.68750     1  0.791667  0.147137   \n1393         1393  0.017857         2  0.50000     1  0.291667  0.005414   \n10560       10560  0.285714         6  0.50000     0  0.458333  0.071227   \n11456       11456  0.285714         1  0.31250     0  0.291667  0.043336   \n647           647  0.642857         5  0.31250     0  0.291667  0.003909   \n...           ...       ...       ...      ...   ...       ...       ...   \n7624         7624  0.285714         4  0.93750     0  0.291667  0.108819   \n8965         8965  0.107143         1  0.56250     1  0.458333  0.008646   \n3635         3635  0.017857         2  0.56250     0  0.458333  0.004298   \n1220         1220  0.821429         6  0.87500     0  0.708333  0.027886   \n3043         3043  0.285714         2  0.56375     0  0.625000  0.005457   \n\n       pipe-age  a7  \n1516   0.222222   0  \n1393   0.370370   0  \n10560  0.388889   1  \n11456  0.259259   0  \n647    0.351852   0  \n...         ...  ..  \n7624   0.370370   1  \n8965   0.259259   1  \n3635   0.314815   0  \n1220   0.185185   0  \n3043   0.370370   1  \n\n[3000 rows x 9 columns]",
      "text/html": "<div>\n<style scoped>\n    .dataframe tbody tr th:only-of-type {\n        vertical-align: middle;\n    }\n\n    .dataframe tbody tr th {\n        vertical-align: top;\n    }\n\n    .dataframe thead th {\n        text-align: right;\n    }\n</style>\n<table border=\"1\" class=\"dataframe\">\n  <thead>\n    <tr style=\"text-align: right;\">\n      <th></th>\n      <th>Unnamed: 0</th>\n      <th>pipe-dia</th>\n      <th>pipe-mat</th>\n      <th>pipe-bd</th>\n      <th>先前失效</th>\n      <th>pipe-pre</th>\n      <th>pipe-len</th>\n      <th>pipe-age</th>\n      <th>a7</th>\n    </tr>\n  </thead>\n  <tbody>\n    <tr>\n      <th>1516</th>\n      <td>1516</td>\n      <td>0.910714</td>\n      <td>0</td>\n      <td>0.68750</td>\n      <td>1</td>\n      <td>0.791667</td>\n      <td>0.147137</td>\n      <td>0.222222</td>\n      <td>0</td>\n    </tr>\n    <tr>\n      <th>1393</th>\n      <td>1393</td>\n      <td>0.017857</td>\n      <td>2</td>\n      <td>0.50000</td>\n      <td>1</td>\n      <td>0.291667</td>\n      <td>0.005414</td>\n      <td>0.370370</td>\n      <td>0</td>\n    </tr>\n    <tr>\n      <th>10560</th>\n      <td>10560</td>\n      <td>0.285714</td>\n      <td>6</td>\n      <td>0.50000</td>\n      <td>0</td>\n      <td>0.458333</td>\n      <td>0.071227</td>\n      <td>0.388889</td>\n      <td>1</td>\n    </tr>\n    <tr>\n      <th>11456</th>\n      <td>11456</td>\n      <td>0.285714</td>\n      <td>1</td>\n      <td>0.31250</td>\n      <td>0</td>\n      <td>0.291667</td>\n      <td>0.043336</td>\n      <td>0.259259</td>\n      <td>0</td>\n    </tr>\n    <tr>\n      <th>647</th>\n      <td>647</td>\n      <td>0.642857</td>\n      <td>5</td>\n      <td>0.31250</td>\n      <td>0</td>\n      <td>0.291667</td>\n      <td>0.003909</td>\n      <td>0.351852</td>\n      <td>0</td>\n    </tr>\n    <tr>\n      <th>...</th>\n      <td>...</td>\n      <td>...</td>\n      <td>...</td>\n      <td>...</td>\n      <td>...</td>\n      <td>...</td>\n      <td>...</td>\n      <td>...</td>\n      <td>...</td>\n    </tr>\n    <tr>\n      <th>7624</th>\n      <td>7624</td>\n      <td>0.285714</td>\n      <td>4</td>\n      <td>0.93750</td>\n      <td>0</td>\n      <td>0.291667</td>\n      <td>0.108819</td>\n      <td>0.370370</td>\n      <td>1</td>\n    </tr>\n    <tr>\n      <th>8965</th>\n      <td>8965</td>\n      <td>0.107143</td>\n      <td>1</td>\n      <td>0.56250</td>\n      <td>1</td>\n      <td>0.458333</td>\n      <td>0.008646</td>\n      <td>0.259259</td>\n      <td>1</td>\n    </tr>\n    <tr>\n      <th>3635</th>\n      <td>3635</td>\n      <td>0.017857</td>\n      <td>2</td>\n      <td>0.56250</td>\n      <td>0</td>\n      <td>0.458333</td>\n      <td>0.004298</td>\n      <td>0.314815</td>\n      <td>0</td>\n    </tr>\n    <tr>\n      <th>1220</th>\n      <td>1220</td>\n      <td>0.821429</td>\n      <td>6</td>\n      <td>0.87500</td>\n      <td>0</td>\n      <td>0.708333</td>\n      <td>0.027886</td>\n      <td>0.185185</td>\n      <td>0</td>\n    </tr>\n    <tr>\n      <th>3043</th>\n      <td>3043</td>\n      <td>0.285714</td>\n      <td>2</td>\n      <td>0.56375</td>\n      <td>0</td>\n      <td>0.625000</td>\n      <td>0.005457</td>\n      <td>0.370370</td>\n      <td>1</td>\n    </tr>\n  </tbody>\n</table>\n<p>3000 rows × 9 columns</p>\n</div>"
     },
     "execution_count": 21,
     "metadata": {},
     "output_type": "execute_result"
    }
   ],
   "source": [
    "data1"
   ],
   "metadata": {
    "collapsed": false,
    "ExecuteTime": {
     "start_time": "2023-06-29T13:59:08.808144Z",
     "end_time": "2023-06-29T13:59:08.842144Z"
    }
   }
  },
  {
   "cell_type": "code",
   "execution_count": 22,
   "outputs": [],
   "source": [
    "data2=data[3000:]"
   ],
   "metadata": {
    "collapsed": false,
    "ExecuteTime": {
     "start_time": "2023-06-29T13:59:08.824144Z",
     "end_time": "2023-06-29T13:59:08.843144Z"
    }
   }
  },
  {
   "cell_type": "code",
   "execution_count": 23,
   "outputs": [
    {
     "name": "stderr",
     "output_type": "stream",
     "text": [
      "C:\\Users\\康云凯\\AppData\\Local\\Temp\\ipykernel_15552\\814119165.py:1: UserWarning: Boolean Series key will be reindexed to match DataFrame index.\n",
      "  data2=data2[data['a7']!=1]\n"
     ]
    }
   ],
   "source": [
    "data2=data2[data['a7']!=1]"
   ],
   "metadata": {
    "collapsed": false,
    "ExecuteTime": {
     "start_time": "2023-06-29T13:59:08.840145Z",
     "end_time": "2023-06-29T13:59:08.876127Z"
    }
   }
  },
  {
   "cell_type": "code",
   "execution_count": 24,
   "outputs": [
    {
     "data": {
      "text/plain": "       Unnamed: 0  pipe-dia  pipe-mat   pipe-bd  先前失效  pipe-pre  pipe-len  \\\n1765         1765  0.821429         3  0.562500     0  0.500000  0.012690   \n1513         1513  0.910714         0  0.312500     0  0.458333  0.425961   \n4032         4032  0.107143         1  0.687500     0  0.416667  0.332944   \n8104         8104  0.285714         3  0.500000     0  0.791667  0.021297   \n5091         5091  0.285714         1  0.562500     0  0.291667  0.018303   \n...           ...       ...       ...       ...   ...       ...       ...   \n466           466  0.285714         6  0.937500     0  0.583333  0.008180   \n5734         5734  0.285714         1  0.312500     0  0.291667  0.043336   \n11284       11284  0.285714         0  0.312500     0  0.791667  0.004677   \n5390         5390  0.285714         1  0.316875     0  0.291667  0.000000   \n860           860  0.017857         2  0.500000     0  0.291667  0.002837   \n\n       pipe-age  a7  \n1765   0.425926   0  \n1513   0.351852   0  \n4032   0.259259   0  \n8104   0.629630   0  \n5091   0.425926   0  \n...         ...  ..  \n466    0.148148   0  \n5734   0.259259   0  \n11284  0.222222   0  \n5390   0.259259   0  \n860    0.222222   0  \n\n[5454 rows x 9 columns]",
      "text/html": "<div>\n<style scoped>\n    .dataframe tbody tr th:only-of-type {\n        vertical-align: middle;\n    }\n\n    .dataframe tbody tr th {\n        vertical-align: top;\n    }\n\n    .dataframe thead th {\n        text-align: right;\n    }\n</style>\n<table border=\"1\" class=\"dataframe\">\n  <thead>\n    <tr style=\"text-align: right;\">\n      <th></th>\n      <th>Unnamed: 0</th>\n      <th>pipe-dia</th>\n      <th>pipe-mat</th>\n      <th>pipe-bd</th>\n      <th>先前失效</th>\n      <th>pipe-pre</th>\n      <th>pipe-len</th>\n      <th>pipe-age</th>\n      <th>a7</th>\n    </tr>\n  </thead>\n  <tbody>\n    <tr>\n      <th>1765</th>\n      <td>1765</td>\n      <td>0.821429</td>\n      <td>3</td>\n      <td>0.562500</td>\n      <td>0</td>\n      <td>0.500000</td>\n      <td>0.012690</td>\n      <td>0.425926</td>\n      <td>0</td>\n    </tr>\n    <tr>\n      <th>1513</th>\n      <td>1513</td>\n      <td>0.910714</td>\n      <td>0</td>\n      <td>0.312500</td>\n      <td>0</td>\n      <td>0.458333</td>\n      <td>0.425961</td>\n      <td>0.351852</td>\n      <td>0</td>\n    </tr>\n    <tr>\n      <th>4032</th>\n      <td>4032</td>\n      <td>0.107143</td>\n      <td>1</td>\n      <td>0.687500</td>\n      <td>0</td>\n      <td>0.416667</td>\n      <td>0.332944</td>\n      <td>0.259259</td>\n      <td>0</td>\n    </tr>\n    <tr>\n      <th>8104</th>\n      <td>8104</td>\n      <td>0.285714</td>\n      <td>3</td>\n      <td>0.500000</td>\n      <td>0</td>\n      <td>0.791667</td>\n      <td>0.021297</td>\n      <td>0.629630</td>\n      <td>0</td>\n    </tr>\n    <tr>\n      <th>5091</th>\n      <td>5091</td>\n      <td>0.285714</td>\n      <td>1</td>\n      <td>0.562500</td>\n      <td>0</td>\n      <td>0.291667</td>\n      <td>0.018303</td>\n      <td>0.425926</td>\n      <td>0</td>\n    </tr>\n    <tr>\n      <th>...</th>\n      <td>...</td>\n      <td>...</td>\n      <td>...</td>\n      <td>...</td>\n      <td>...</td>\n      <td>...</td>\n      <td>...</td>\n      <td>...</td>\n      <td>...</td>\n    </tr>\n    <tr>\n      <th>466</th>\n      <td>466</td>\n      <td>0.285714</td>\n      <td>6</td>\n      <td>0.937500</td>\n      <td>0</td>\n      <td>0.583333</td>\n      <td>0.008180</td>\n      <td>0.148148</td>\n      <td>0</td>\n    </tr>\n    <tr>\n      <th>5734</th>\n      <td>5734</td>\n      <td>0.285714</td>\n      <td>1</td>\n      <td>0.312500</td>\n      <td>0</td>\n      <td>0.291667</td>\n      <td>0.043336</td>\n      <td>0.259259</td>\n      <td>0</td>\n    </tr>\n    <tr>\n      <th>11284</th>\n      <td>11284</td>\n      <td>0.285714</td>\n      <td>0</td>\n      <td>0.312500</td>\n      <td>0</td>\n      <td>0.791667</td>\n      <td>0.004677</td>\n      <td>0.222222</td>\n      <td>0</td>\n    </tr>\n    <tr>\n      <th>5390</th>\n      <td>5390</td>\n      <td>0.285714</td>\n      <td>1</td>\n      <td>0.316875</td>\n      <td>0</td>\n      <td>0.291667</td>\n      <td>0.000000</td>\n      <td>0.259259</td>\n      <td>0</td>\n    </tr>\n    <tr>\n      <th>860</th>\n      <td>860</td>\n      <td>0.017857</td>\n      <td>2</td>\n      <td>0.500000</td>\n      <td>0</td>\n      <td>0.291667</td>\n      <td>0.002837</td>\n      <td>0.222222</td>\n      <td>0</td>\n    </tr>\n  </tbody>\n</table>\n<p>5454 rows × 9 columns</p>\n</div>"
     },
     "execution_count": 24,
     "metadata": {},
     "output_type": "execute_result"
    }
   ],
   "source": [
    "data2"
   ],
   "metadata": {
    "collapsed": false,
    "ExecuteTime": {
     "start_time": "2023-06-29T13:59:08.853146Z",
     "end_time": "2023-06-29T13:59:08.896127Z"
    }
   }
  },
  {
   "cell_type": "code",
   "execution_count": 25,
   "outputs": [
    {
     "data": {
      "text/plain": "(5454, 9)"
     },
     "execution_count": 25,
     "metadata": {},
     "output_type": "execute_result"
    }
   ],
   "source": [
    "data2.shape"
   ],
   "metadata": {
    "collapsed": false,
    "ExecuteTime": {
     "start_time": "2023-06-29T13:59:08.868127Z",
     "end_time": "2023-06-29T13:59:08.912127Z"
    }
   }
  },
  {
   "cell_type": "code",
   "execution_count": 26,
   "outputs": [],
   "source": [
    "data_label=data1['a7'].values"
   ],
   "metadata": {
    "collapsed": false,
    "ExecuteTime": {
     "start_time": "2023-06-29T13:59:08.884128Z",
     "end_time": "2023-06-29T13:59:08.942127Z"
    }
   }
  },
  {
   "cell_type": "code",
   "execution_count": 27,
   "outputs": [
    {
     "data": {
      "text/plain": "array([0, 0, 1, ..., 0, 0, 1], dtype=int64)"
     },
     "execution_count": 27,
     "metadata": {},
     "output_type": "execute_result"
    }
   ],
   "source": [
    "data_label"
   ],
   "metadata": {
    "collapsed": false,
    "ExecuteTime": {
     "start_time": "2023-06-29T13:59:08.899128Z",
     "end_time": "2023-06-29T13:59:08.968127Z"
    }
   }
  },
  {
   "cell_type": "code",
   "execution_count": 28,
   "outputs": [
    {
     "data": {
      "text/plain": "1080"
     },
     "execution_count": 28,
     "metadata": {},
     "output_type": "execute_result"
    }
   ],
   "source": [
    "np.count_nonzero(data_label)"
   ],
   "metadata": {
    "collapsed": false,
    "ExecuteTime": {
     "start_time": "2023-06-29T13:59:08.914131Z",
     "end_time": "2023-06-29T13:59:09.008128Z"
    }
   }
  },
  {
   "cell_type": "code",
   "execution_count": 29,
   "outputs": [],
   "source": [
    "data = pd.read_csv('data.csv')"
   ],
   "metadata": {
    "collapsed": false,
    "ExecuteTime": {
     "start_time": "2023-06-29T13:59:08.929130Z",
     "end_time": "2023-06-29T13:59:09.013127Z"
    }
   }
  },
  {
   "cell_type": "code",
   "execution_count": 30,
   "outputs": [
    {
     "data": {
      "text/plain": "(11489, 9)"
     },
     "execution_count": 30,
     "metadata": {},
     "output_type": "execute_result"
    }
   ],
   "source": [
    "data.shape"
   ],
   "metadata": {
    "collapsed": false,
    "ExecuteTime": {
     "start_time": "2023-06-29T13:59:08.943129Z",
     "end_time": "2023-06-29T13:59:09.013127Z"
    }
   }
  },
  {
   "cell_type": "code",
   "execution_count": 31,
   "outputs": [],
   "source": [
    "data1=data[:3000]"
   ],
   "metadata": {
    "collapsed": false,
    "ExecuteTime": {
     "start_time": "2023-06-29T13:59:08.959137Z",
     "end_time": "2023-06-29T13:59:09.013127Z"
    }
   }
  },
  {
   "cell_type": "code",
   "execution_count": 32,
   "outputs": [],
   "source": [
    "data2=data[3000:]"
   ],
   "metadata": {
    "collapsed": false,
    "ExecuteTime": {
     "start_time": "2023-06-29T13:59:08.974129Z",
     "end_time": "2023-06-29T13:59:09.013127Z"
    }
   }
  },
  {
   "cell_type": "code",
   "execution_count": 33,
   "outputs": [
    {
     "name": "stderr",
     "output_type": "stream",
     "text": [
      "C:\\Users\\康云凯\\AppData\\Local\\Temp\\ipykernel_15552\\814119165.py:1: UserWarning: Boolean Series key will be reindexed to match DataFrame index.\n",
      "  data2=data2[data['a7']!=1]\n"
     ]
    }
   ],
   "source": [
    "data2=data2[data['a7']!=1]"
   ],
   "metadata": {
    "collapsed": false,
    "ExecuteTime": {
     "start_time": "2023-06-29T13:59:08.989128Z",
     "end_time": "2023-06-29T13:59:09.015130Z"
    }
   }
  },
  {
   "cell_type": "code",
   "execution_count": 34,
   "outputs": [],
   "source": [
    "data_merge=pd.concat([data1,data2],axis=0)"
   ],
   "metadata": {
    "collapsed": false,
    "ExecuteTime": {
     "start_time": "2023-06-29T13:59:09.004129Z",
     "end_time": "2023-06-29T13:59:09.030128Z"
    }
   }
  },
  {
   "cell_type": "code",
   "execution_count": 35,
   "outputs": [
    {
     "data": {
      "text/plain": "(7982, 9)"
     },
     "execution_count": 35,
     "metadata": {},
     "output_type": "execute_result"
    }
   ],
   "source": [
    "data_merge.shape"
   ],
   "metadata": {
    "collapsed": false,
    "ExecuteTime": {
     "start_time": "2023-06-29T13:59:09.019128Z",
     "end_time": "2023-06-29T13:59:09.062127Z"
    }
   }
  },
  {
   "cell_type": "code",
   "execution_count": 36,
   "outputs": [
    {
     "data": {
      "text/plain": "608"
     },
     "execution_count": 36,
     "metadata": {},
     "output_type": "execute_result"
    }
   ],
   "source": [
    "np.count_nonzero(data_merge['a7'])"
   ],
   "metadata": {
    "collapsed": false,
    "ExecuteTime": {
     "start_time": "2023-06-29T13:59:09.034132Z",
     "end_time": "2023-06-29T13:59:09.062127Z"
    }
   }
  },
  {
   "cell_type": "code",
   "execution_count": 37,
   "outputs": [],
   "source": [
    "data_merge.to_csv('data.csv',index=False)"
   ],
   "metadata": {
    "collapsed": false,
    "ExecuteTime": {
     "start_time": "2023-06-29T13:59:09.048130Z",
     "end_time": "2023-06-29T13:59:09.122127Z"
    }
   }
  },
  {
   "cell_type": "code",
   "execution_count": 56,
   "outputs": [],
   "source": [
    "nodes=np.array(100)"
   ],
   "metadata": {
    "collapsed": false,
    "ExecuteTime": {
     "start_time": "2023-06-29T14:43:29.777073Z",
     "end_time": "2023-06-29T14:43:29.789073Z"
    }
   }
  },
  {
   "cell_type": "code",
   "execution_count": 57,
   "outputs": [
    {
     "data": {
      "text/plain": "array(100)"
     },
     "execution_count": 57,
     "metadata": {},
     "output_type": "execute_result"
    }
   ],
   "source": [],
   "metadata": {
    "collapsed": false,
    "ExecuteTime": {
     "start_time": "2023-06-29T14:43:32.124136Z",
     "end_time": "2023-06-29T14:43:32.136142Z"
    }
   }
  },
  {
   "cell_type": "code",
   "execution_count": null,
   "outputs": [],
   "source": [],
   "metadata": {
    "collapsed": false
   }
  }
 ],
 "metadata": {
  "kernelspec": {
   "display_name": "Python 3",
   "language": "python",
   "name": "python3"
  },
  "language_info": {
   "codemirror_mode": {
    "name": "ipython",
    "version": 2
   },
   "file_extension": ".py",
   "mimetype": "text/x-python",
   "name": "python",
   "nbconvert_exporter": "python",
   "pygments_lexer": "ipython2",
   "version": "2.7.6"
  }
 },
 "nbformat": 4,
 "nbformat_minor": 0
}
